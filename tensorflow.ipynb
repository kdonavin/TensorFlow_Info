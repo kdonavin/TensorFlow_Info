{
 "cells": [
  {
   "cell_type": "markdown",
   "metadata": {
    "id": "a0znSn8l3wqb"
   },
   "source": [
    "# Setup"
   ]
  },
  {
   "cell_type": "code",
   "execution_count": 1,
   "metadata": {
    "colab": {
     "base_uri": "https://localhost:8080/"
    },
    "executionInfo": {
     "elapsed": 160,
     "status": "ok",
     "timestamp": 1712819704650,
     "user": {
      "displayName": "Kirkwood Donavin",
      "userId": "13583733505128294183"
     },
     "user_tz": 360
    },
    "id": "HztGXVfFwHSJ",
    "outputId": "c5a6b033-1415-4ac4-e616-c9de88b7f227"
   },
   "outputs": [],
   "source": [
    "# Setup plotting\n",
    "import matplotlib.pyplot as plt\n",
    "\n",
    "# plt.style.use('seaborn-whitegrid')\n",
    "# Set Matplotlib defaults\n",
    "plt.rc('figure', autolayout=True)\n",
    "plt.rc('axes', labelweight='bold', labelsize='large',\n",
    "       titleweight='bold', titlesize=18, titlepad=10)"
   ]
  },
  {
   "cell_type": "code",
   "execution_count": 2,
   "metadata": {
    "colab": {
     "base_uri": "https://localhost:8080/",
     "height": 210
    },
    "executionInfo": {
     "elapsed": 1831,
     "status": "ok",
     "timestamp": 1712819706654,
     "user": {
      "displayName": "Kirkwood Donavin",
      "userId": "13583733505128294183"
     },
     "user_tz": 360
    },
    "id": "DcJmEYt4oU8e",
    "outputId": "84468620-b2da-4ea1-a27b-bb702a080e57"
   },
   "outputs": [
    {
     "data": {
      "text/html": [
       "<div>\n",
       "<style scoped>\n",
       "    .dataframe tbody tr th:only-of-type {\n",
       "        vertical-align: middle;\n",
       "    }\n",
       "\n",
       "    .dataframe tbody tr th {\n",
       "        vertical-align: top;\n",
       "    }\n",
       "\n",
       "    .dataframe thead th {\n",
       "        text-align: right;\n",
       "    }\n",
       "</style>\n",
       "<table border=\"1\" class=\"dataframe\">\n",
       "  <thead>\n",
       "    <tr style=\"text-align: right;\">\n",
       "      <th></th>\n",
       "      <th>fixed acidity</th>\n",
       "      <th>volatile acidity</th>\n",
       "      <th>citric acid</th>\n",
       "      <th>residual sugar</th>\n",
       "      <th>chlorides</th>\n",
       "      <th>free sulfur dioxide</th>\n",
       "      <th>total sulfur dioxide</th>\n",
       "      <th>density</th>\n",
       "      <th>pH</th>\n",
       "      <th>sulphates</th>\n",
       "      <th>alcohol</th>\n",
       "      <th>quality</th>\n",
       "    </tr>\n",
       "  </thead>\n",
       "  <tbody>\n",
       "    <tr>\n",
       "      <th>1109</th>\n",
       "      <td>10.8</td>\n",
       "      <td>0.470</td>\n",
       "      <td>0.43</td>\n",
       "      <td>2.10</td>\n",
       "      <td>0.171</td>\n",
       "      <td>27.0</td>\n",
       "      <td>66.0</td>\n",
       "      <td>0.99820</td>\n",
       "      <td>3.17</td>\n",
       "      <td>0.76</td>\n",
       "      <td>10.8</td>\n",
       "      <td>6</td>\n",
       "    </tr>\n",
       "    <tr>\n",
       "      <th>1032</th>\n",
       "      <td>8.1</td>\n",
       "      <td>0.820</td>\n",
       "      <td>0.00</td>\n",
       "      <td>4.10</td>\n",
       "      <td>0.095</td>\n",
       "      <td>5.0</td>\n",
       "      <td>14.0</td>\n",
       "      <td>0.99854</td>\n",
       "      <td>3.36</td>\n",
       "      <td>0.53</td>\n",
       "      <td>9.6</td>\n",
       "      <td>5</td>\n",
       "    </tr>\n",
       "    <tr>\n",
       "      <th>1002</th>\n",
       "      <td>9.1</td>\n",
       "      <td>0.290</td>\n",
       "      <td>0.33</td>\n",
       "      <td>2.05</td>\n",
       "      <td>0.063</td>\n",
       "      <td>13.0</td>\n",
       "      <td>27.0</td>\n",
       "      <td>0.99516</td>\n",
       "      <td>3.26</td>\n",
       "      <td>0.84</td>\n",
       "      <td>11.7</td>\n",
       "      <td>7</td>\n",
       "    </tr>\n",
       "    <tr>\n",
       "      <th>487</th>\n",
       "      <td>10.2</td>\n",
       "      <td>0.645</td>\n",
       "      <td>0.36</td>\n",
       "      <td>1.80</td>\n",
       "      <td>0.053</td>\n",
       "      <td>5.0</td>\n",
       "      <td>14.0</td>\n",
       "      <td>0.99820</td>\n",
       "      <td>3.17</td>\n",
       "      <td>0.42</td>\n",
       "      <td>10.0</td>\n",
       "      <td>6</td>\n",
       "    </tr>\n",
       "  </tbody>\n",
       "</table>\n",
       "</div>"
      ],
      "text/plain": [
       "      fixed acidity  volatile acidity  citric acid  residual sugar  chlorides  \\\n",
       "1109           10.8             0.470         0.43            2.10      0.171   \n",
       "1032            8.1             0.820         0.00            4.10      0.095   \n",
       "1002            9.1             0.290         0.33            2.05      0.063   \n",
       "487            10.2             0.645         0.36            1.80      0.053   \n",
       "\n",
       "      free sulfur dioxide  total sulfur dioxide  density    pH  sulphates  \\\n",
       "1109                 27.0                  66.0  0.99820  3.17       0.76   \n",
       "1032                  5.0                  14.0  0.99854  3.36       0.53   \n",
       "1002                 13.0                  27.0  0.99516  3.26       0.84   \n",
       "487                   5.0                  14.0  0.99820  3.17       0.42   \n",
       "\n",
       "      alcohol  quality  \n",
       "1109     10.8        6  \n",
       "1032      9.6        5  \n",
       "1002     11.7        7  \n",
       "487      10.0        6  "
      ]
     },
     "metadata": {},
     "output_type": "display_data"
    }
   ],
   "source": [
    "# Wine Data Setup\n",
    "\n",
    "import pandas as pd\n",
    "from IPython.display import display\n",
    "\n",
    "red_wine = pd.read_csv('DATA/red-wine.csv')\n",
    "\n",
    "# Create training and validation splits\n",
    "wine_train = red_wine.sample(frac=0.7, random_state=0)\n",
    "wine_valid = red_wine.drop(wine_train.index)\n",
    "display(wine_train.head(4))\n",
    "\n",
    "# Scale to [0, 1]\n",
    "max_ = wine_train.max(axis=0)\n",
    "min_ = wine_train.min(axis=0)\n",
    "wine_train = (wine_train - min_) / (max_ - min_)\n",
    "wine_valid = (wine_valid - min_) / (max_ - min_)"
   ]
  },
  {
   "cell_type": "code",
   "execution_count": 3,
   "metadata": {
    "colab": {
     "base_uri": "https://localhost:8080/",
     "height": 226
    },
    "executionInfo": {
     "elapsed": 1774,
     "status": "ok",
     "timestamp": 1712819708423,
     "user": {
      "displayName": "Kirkwood Donavin",
      "userId": "13583733505128294183"
     },
     "user_tz": 360
    },
    "id": "izWV5mPOH1uc",
    "outputId": "02948b35-4d66-495b-b3b5-9890b772bde4"
   },
   "outputs": [
    {
     "data": {
      "text/html": [
       "<div>\n",
       "<style scoped>\n",
       "    .dataframe tbody tr th:only-of-type {\n",
       "        vertical-align: middle;\n",
       "    }\n",
       "\n",
       "    .dataframe tbody tr th {\n",
       "        vertical-align: top;\n",
       "    }\n",
       "\n",
       "    .dataframe thead th {\n",
       "        text-align: right;\n",
       "    }\n",
       "</style>\n",
       "<table border=\"1\" class=\"dataframe\">\n",
       "  <thead>\n",
       "    <tr style=\"text-align: right;\">\n",
       "      <th></th>\n",
       "      <th>EngDispl</th>\n",
       "      <th>NumCyl</th>\n",
       "      <th>Transmission</th>\n",
       "      <th>FE</th>\n",
       "      <th>AirAspirationMethod</th>\n",
       "      <th>NumGears</th>\n",
       "      <th>TransLockup</th>\n",
       "      <th>TransCreeperGear</th>\n",
       "      <th>DriveDesc</th>\n",
       "      <th>IntakeValvePerCyl</th>\n",
       "      <th>ExhaustValvesPerCyl</th>\n",
       "      <th>CarlineClassDesc</th>\n",
       "      <th>VarValveTiming</th>\n",
       "      <th>VarValveLift</th>\n",
       "    </tr>\n",
       "  </thead>\n",
       "  <tbody>\n",
       "    <tr>\n",
       "      <th>0</th>\n",
       "      <td>4.7</td>\n",
       "      <td>8</td>\n",
       "      <td>AM6</td>\n",
       "      <td>28.0198</td>\n",
       "      <td>NaturallyAspirated</td>\n",
       "      <td>6</td>\n",
       "      <td>1</td>\n",
       "      <td>0</td>\n",
       "      <td>TwoWheelDriveRear</td>\n",
       "      <td>2</td>\n",
       "      <td>2</td>\n",
       "      <td>2Seaters</td>\n",
       "      <td>1</td>\n",
       "      <td>0</td>\n",
       "    </tr>\n",
       "    <tr>\n",
       "      <th>1</th>\n",
       "      <td>4.7</td>\n",
       "      <td>8</td>\n",
       "      <td>M6</td>\n",
       "      <td>25.6094</td>\n",
       "      <td>NaturallyAspirated</td>\n",
       "      <td>6</td>\n",
       "      <td>1</td>\n",
       "      <td>0</td>\n",
       "      <td>TwoWheelDriveRear</td>\n",
       "      <td>2</td>\n",
       "      <td>2</td>\n",
       "      <td>2Seaters</td>\n",
       "      <td>1</td>\n",
       "      <td>0</td>\n",
       "    </tr>\n",
       "    <tr>\n",
       "      <th>2</th>\n",
       "      <td>4.2</td>\n",
       "      <td>8</td>\n",
       "      <td>M6</td>\n",
       "      <td>26.8000</td>\n",
       "      <td>NaturallyAspirated</td>\n",
       "      <td>6</td>\n",
       "      <td>1</td>\n",
       "      <td>0</td>\n",
       "      <td>AllWheelDrive</td>\n",
       "      <td>2</td>\n",
       "      <td>2</td>\n",
       "      <td>2Seaters</td>\n",
       "      <td>1</td>\n",
       "      <td>0</td>\n",
       "    </tr>\n",
       "    <tr>\n",
       "      <th>3</th>\n",
       "      <td>4.2</td>\n",
       "      <td>8</td>\n",
       "      <td>AM6</td>\n",
       "      <td>25.0451</td>\n",
       "      <td>NaturallyAspirated</td>\n",
       "      <td>6</td>\n",
       "      <td>1</td>\n",
       "      <td>0</td>\n",
       "      <td>AllWheelDrive</td>\n",
       "      <td>2</td>\n",
       "      <td>2</td>\n",
       "      <td>2Seaters</td>\n",
       "      <td>1</td>\n",
       "      <td>0</td>\n",
       "    </tr>\n",
       "    <tr>\n",
       "      <th>4</th>\n",
       "      <td>5.2</td>\n",
       "      <td>10</td>\n",
       "      <td>AM6</td>\n",
       "      <td>24.8000</td>\n",
       "      <td>NaturallyAspirated</td>\n",
       "      <td>6</td>\n",
       "      <td>0</td>\n",
       "      <td>0</td>\n",
       "      <td>AllWheelDrive</td>\n",
       "      <td>2</td>\n",
       "      <td>2</td>\n",
       "      <td>2Seaters</td>\n",
       "      <td>1</td>\n",
       "      <td>0</td>\n",
       "    </tr>\n",
       "  </tbody>\n",
       "</table>\n",
       "</div>"
      ],
      "text/plain": [
       "   EngDispl  NumCyl Transmission       FE AirAspirationMethod  NumGears  \\\n",
       "0       4.7       8          AM6  28.0198  NaturallyAspirated         6   \n",
       "1       4.7       8           M6  25.6094  NaturallyAspirated         6   \n",
       "2       4.2       8           M6  26.8000  NaturallyAspirated         6   \n",
       "3       4.2       8          AM6  25.0451  NaturallyAspirated         6   \n",
       "4       5.2      10          AM6  24.8000  NaturallyAspirated         6   \n",
       "\n",
       "   TransLockup  TransCreeperGear          DriveDesc  IntakeValvePerCyl  \\\n",
       "0            1                 0  TwoWheelDriveRear                  2   \n",
       "1            1                 0  TwoWheelDriveRear                  2   \n",
       "2            1                 0      AllWheelDrive                  2   \n",
       "3            1                 0      AllWheelDrive                  2   \n",
       "4            0                 0      AllWheelDrive                  2   \n",
       "\n",
       "   ExhaustValvesPerCyl CarlineClassDesc  VarValveTiming  VarValveLift  \n",
       "0                    2         2Seaters               1             0  \n",
       "1                    2         2Seaters               1             0  \n",
       "2                    2         2Seaters               1             0  \n",
       "3                    2         2Seaters               1             0  \n",
       "4                    2         2Seaters               1             0  "
      ]
     },
     "metadata": {},
     "output_type": "display_data"
    }
   ],
   "source": [
    "# Fuel data setup\n",
    "\n",
    "import numpy as np\n",
    "import pandas as pd\n",
    "from sklearn.preprocessing import StandardScaler, OneHotEncoder\n",
    "from sklearn.compose import make_column_transformer, make_column_selector\n",
    "from sklearn.model_selection import train_test_split\n",
    "\n",
    "fuel = pd.read_csv('DATA/fuel.csv')\n",
    "\n",
    "X_fuel = fuel.copy()\n",
    "display(pd.DataFrame(X_fuel).head())\n",
    "# Remove target\n",
    "y_fuel = X_fuel.pop('FE')\n",
    "\n",
    "preprocessor = make_column_transformer(\n",
    "    (StandardScaler(),\n",
    "     make_column_selector(dtype_include=np.number)),\n",
    "    (OneHotEncoder(sparse_output=False),\n",
    "     make_column_selector(dtype_include=object)),\n",
    ")\n",
    "\n",
    "X_fuel = preprocessor.fit_transform(X_fuel)\n",
    "y_fuel = np.log(y_fuel) # log transform target instead of standardizing"
   ]
  },
  {
   "cell_type": "code",
   "execution_count": 4,
   "metadata": {
    "colab": {
     "base_uri": "https://localhost:8080/",
     "height": 499
    },
    "executionInfo": {
     "elapsed": 5177,
     "status": "ok",
     "timestamp": 1712819713599,
     "user": {
      "displayName": "Kirkwood Donavin",
      "userId": "13583733505128294183"
     },
     "user_tz": 360
    },
    "id": "9AEBwUF27EMn",
    "outputId": "9194bfb9-7336-4770-f7ff-c5b213d9c949"
   },
   "outputs": [
    {
     "name": "stderr",
     "output_type": "stream",
     "text": [
      "2024-05-06 01:43:57.907994: I external/local_tsl/tsl/cuda/cudart_stub.cc:32] Could not find cuda drivers on your machine, GPU will not be used.\n",
      "2024-05-06 01:43:57.922717: I external/local_tsl/tsl/cuda/cudart_stub.cc:32] Could not find cuda drivers on your machine, GPU will not be used.\n",
      "2024-05-06 01:43:57.972676: I tensorflow/core/platform/cpu_feature_guard.cc:210] This TensorFlow binary is optimized to use available CPU instructions in performance-critical operations.\n",
      "To enable the following instructions: AVX2 FMA, in other operations, rebuild TensorFlow with the appropriate compiler flags.\n",
      "2024-05-06 01:43:59.215824: W tensorflow/compiler/tf2tensorrt/utils/py_utils.cc:38] TF-TRT Warning: Could not find TensorRT\n"
     ]
    },
    {
     "data": {
      "text/html": [
       "<div>\n",
       "<style scoped>\n",
       "    .dataframe tbody tr th:only-of-type {\n",
       "        vertical-align: middle;\n",
       "    }\n",
       "\n",
       "    .dataframe tbody tr th {\n",
       "        vertical-align: top;\n",
       "    }\n",
       "\n",
       "    .dataframe thead th {\n",
       "        text-align: right;\n",
       "    }\n",
       "</style>\n",
       "<table border=\"1\" class=\"dataframe\">\n",
       "  <thead>\n",
       "    <tr style=\"text-align: right;\">\n",
       "      <th></th>\n",
       "      <th>track_id</th>\n",
       "      <th>track_name</th>\n",
       "      <th>track_artist</th>\n",
       "      <th>track_album_id</th>\n",
       "      <th>track_album_name</th>\n",
       "      <th>track_album_release_date</th>\n",
       "      <th>playlist_name</th>\n",
       "      <th>playlist_id</th>\n",
       "      <th>playlist_genre</th>\n",
       "      <th>playlist_subgenre</th>\n",
       "      <th>...</th>\n",
       "      <th>key</th>\n",
       "      <th>loudness</th>\n",
       "      <th>mode</th>\n",
       "      <th>speechiness</th>\n",
       "      <th>acousticness</th>\n",
       "      <th>instrumentalness</th>\n",
       "      <th>liveness</th>\n",
       "      <th>valence</th>\n",
       "      <th>tempo</th>\n",
       "      <th>duration_ms</th>\n",
       "    </tr>\n",
       "  </thead>\n",
       "  <tbody>\n",
       "    <tr>\n",
       "      <th>0</th>\n",
       "      <td>6f807x0ima9a1j3VPbc7VN</td>\n",
       "      <td>I Don't Care (with Justin Bieber) - Loud Luxur...</td>\n",
       "      <td>Ed Sheeran</td>\n",
       "      <td>2oCs0DGTsRO98Gh5ZSl2Cx</td>\n",
       "      <td>I Don't Care (with Justin Bieber) [Loud Luxury...</td>\n",
       "      <td>2019-06-14</td>\n",
       "      <td>Pop Remix</td>\n",
       "      <td>37i9dQZF1DXcZDD7cfEKhW</td>\n",
       "      <td>pop</td>\n",
       "      <td>dance pop</td>\n",
       "      <td>...</td>\n",
       "      <td>6</td>\n",
       "      <td>-2.634</td>\n",
       "      <td>1</td>\n",
       "      <td>0.0583</td>\n",
       "      <td>0.1020</td>\n",
       "      <td>0.000000</td>\n",
       "      <td>0.0653</td>\n",
       "      <td>0.518</td>\n",
       "      <td>122.036</td>\n",
       "      <td>194754</td>\n",
       "    </tr>\n",
       "    <tr>\n",
       "      <th>1</th>\n",
       "      <td>0r7CVbZTWZgbTCYdfa2P31</td>\n",
       "      <td>Memories - Dillon Francis Remix</td>\n",
       "      <td>Maroon 5</td>\n",
       "      <td>63rPSO264uRjW1X5E6cWv6</td>\n",
       "      <td>Memories (Dillon Francis Remix)</td>\n",
       "      <td>2019-12-13</td>\n",
       "      <td>Pop Remix</td>\n",
       "      <td>37i9dQZF1DXcZDD7cfEKhW</td>\n",
       "      <td>pop</td>\n",
       "      <td>dance pop</td>\n",
       "      <td>...</td>\n",
       "      <td>11</td>\n",
       "      <td>-4.969</td>\n",
       "      <td>1</td>\n",
       "      <td>0.0373</td>\n",
       "      <td>0.0724</td>\n",
       "      <td>0.004210</td>\n",
       "      <td>0.3570</td>\n",
       "      <td>0.693</td>\n",
       "      <td>99.972</td>\n",
       "      <td>162600</td>\n",
       "    </tr>\n",
       "    <tr>\n",
       "      <th>2</th>\n",
       "      <td>1z1Hg7Vb0AhHDiEmnDE79l</td>\n",
       "      <td>All the Time - Don Diablo Remix</td>\n",
       "      <td>Zara Larsson</td>\n",
       "      <td>1HoSmj2eLcsrR0vE9gThr4</td>\n",
       "      <td>All the Time (Don Diablo Remix)</td>\n",
       "      <td>2019-07-05</td>\n",
       "      <td>Pop Remix</td>\n",
       "      <td>37i9dQZF1DXcZDD7cfEKhW</td>\n",
       "      <td>pop</td>\n",
       "      <td>dance pop</td>\n",
       "      <td>...</td>\n",
       "      <td>1</td>\n",
       "      <td>-3.432</td>\n",
       "      <td>0</td>\n",
       "      <td>0.0742</td>\n",
       "      <td>0.0794</td>\n",
       "      <td>0.000023</td>\n",
       "      <td>0.1100</td>\n",
       "      <td>0.613</td>\n",
       "      <td>124.008</td>\n",
       "      <td>176616</td>\n",
       "    </tr>\n",
       "    <tr>\n",
       "      <th>3</th>\n",
       "      <td>75FpbthrwQmzHlBJLuGdC7</td>\n",
       "      <td>Call You Mine - Keanu Silva Remix</td>\n",
       "      <td>The Chainsmokers</td>\n",
       "      <td>1nqYsOef1yKKuGOVchbsk6</td>\n",
       "      <td>Call You Mine - The Remixes</td>\n",
       "      <td>2019-07-19</td>\n",
       "      <td>Pop Remix</td>\n",
       "      <td>37i9dQZF1DXcZDD7cfEKhW</td>\n",
       "      <td>pop</td>\n",
       "      <td>dance pop</td>\n",
       "      <td>...</td>\n",
       "      <td>7</td>\n",
       "      <td>-3.778</td>\n",
       "      <td>1</td>\n",
       "      <td>0.1020</td>\n",
       "      <td>0.0287</td>\n",
       "      <td>0.000009</td>\n",
       "      <td>0.2040</td>\n",
       "      <td>0.277</td>\n",
       "      <td>121.956</td>\n",
       "      <td>169093</td>\n",
       "    </tr>\n",
       "    <tr>\n",
       "      <th>4</th>\n",
       "      <td>1e8PAfcKUYoKkxPhrHqw4x</td>\n",
       "      <td>Someone You Loved - Future Humans Remix</td>\n",
       "      <td>Lewis Capaldi</td>\n",
       "      <td>7m7vv9wlQ4i0LFuJiE2zsQ</td>\n",
       "      <td>Someone You Loved (Future Humans Remix)</td>\n",
       "      <td>2019-03-05</td>\n",
       "      <td>Pop Remix</td>\n",
       "      <td>37i9dQZF1DXcZDD7cfEKhW</td>\n",
       "      <td>pop</td>\n",
       "      <td>dance pop</td>\n",
       "      <td>...</td>\n",
       "      <td>1</td>\n",
       "      <td>-4.672</td>\n",
       "      <td>1</td>\n",
       "      <td>0.0359</td>\n",
       "      <td>0.0803</td>\n",
       "      <td>0.000000</td>\n",
       "      <td>0.0833</td>\n",
       "      <td>0.725</td>\n",
       "      <td>123.976</td>\n",
       "      <td>189052</td>\n",
       "    </tr>\n",
       "  </tbody>\n",
       "</table>\n",
       "<p>5 rows × 22 columns</p>\n",
       "</div>"
      ],
      "text/plain": [
       "                 track_id                                         track_name  \\\n",
       "0  6f807x0ima9a1j3VPbc7VN  I Don't Care (with Justin Bieber) - Loud Luxur...   \n",
       "1  0r7CVbZTWZgbTCYdfa2P31                    Memories - Dillon Francis Remix   \n",
       "2  1z1Hg7Vb0AhHDiEmnDE79l                    All the Time - Don Diablo Remix   \n",
       "3  75FpbthrwQmzHlBJLuGdC7                  Call You Mine - Keanu Silva Remix   \n",
       "4  1e8PAfcKUYoKkxPhrHqw4x            Someone You Loved - Future Humans Remix   \n",
       "\n",
       "       track_artist          track_album_id  \\\n",
       "0        Ed Sheeran  2oCs0DGTsRO98Gh5ZSl2Cx   \n",
       "1          Maroon 5  63rPSO264uRjW1X5E6cWv6   \n",
       "2      Zara Larsson  1HoSmj2eLcsrR0vE9gThr4   \n",
       "3  The Chainsmokers  1nqYsOef1yKKuGOVchbsk6   \n",
       "4     Lewis Capaldi  7m7vv9wlQ4i0LFuJiE2zsQ   \n",
       "\n",
       "                                    track_album_name track_album_release_date  \\\n",
       "0  I Don't Care (with Justin Bieber) [Loud Luxury...               2019-06-14   \n",
       "1                    Memories (Dillon Francis Remix)               2019-12-13   \n",
       "2                    All the Time (Don Diablo Remix)               2019-07-05   \n",
       "3                        Call You Mine - The Remixes               2019-07-19   \n",
       "4            Someone You Loved (Future Humans Remix)               2019-03-05   \n",
       "\n",
       "  playlist_name             playlist_id playlist_genre playlist_subgenre  ...  \\\n",
       "0     Pop Remix  37i9dQZF1DXcZDD7cfEKhW            pop         dance pop  ...   \n",
       "1     Pop Remix  37i9dQZF1DXcZDD7cfEKhW            pop         dance pop  ...   \n",
       "2     Pop Remix  37i9dQZF1DXcZDD7cfEKhW            pop         dance pop  ...   \n",
       "3     Pop Remix  37i9dQZF1DXcZDD7cfEKhW            pop         dance pop  ...   \n",
       "4     Pop Remix  37i9dQZF1DXcZDD7cfEKhW            pop         dance pop  ...   \n",
       "\n",
       "   key  loudness  mode  speechiness  acousticness  instrumentalness  liveness  \\\n",
       "0    6    -2.634     1       0.0583        0.1020          0.000000    0.0653   \n",
       "1   11    -4.969     1       0.0373        0.0724          0.004210    0.3570   \n",
       "2    1    -3.432     0       0.0742        0.0794          0.000023    0.1100   \n",
       "3    7    -3.778     1       0.1020        0.0287          0.000009    0.2040   \n",
       "4    1    -4.672     1       0.0359        0.0803          0.000000    0.0833   \n",
       "\n",
       "   valence    tempo  duration_ms  \n",
       "0    0.518  122.036       194754  \n",
       "1    0.693   99.972       162600  \n",
       "2    0.613  124.008       176616  \n",
       "3    0.277  121.956       169093  \n",
       "4    0.725  123.976       189052  \n",
       "\n",
       "[5 rows x 22 columns]"
      ]
     },
     "metadata": {},
     "output_type": "display_data"
    }
   ],
   "source": [
    "# Spotify data setup\n",
    "\n",
    "import pandas as pd\n",
    "from sklearn.preprocessing import StandardScaler, OneHotEncoder\n",
    "from sklearn.compose import make_column_transformer\n",
    "from sklearn.model_selection import GroupShuffleSplit\n",
    "\n",
    "from tensorflow import keras\n",
    "from tensorflow.keras import layers\n",
    "from tensorflow.keras import callbacks\n",
    "\n",
    "spotify = pd.read_csv('DATA/spotify.csv')\n",
    "\n",
    "X_spot = spotify.copy().dropna()\n",
    "y_spot = X_spot.pop('track_popularity')\n",
    "artists = X_spot['track_artist']\n",
    "\n",
    "features_num = ['danceability', 'energy', 'key', 'loudness', 'mode',\n",
    "                'speechiness', 'acousticness', 'instrumentalness',\n",
    "                'liveness', 'valence', 'tempo', 'duration_ms']\n",
    "features_cat = ['playlist_genre']\n",
    "\n",
    "preprocessor = make_column_transformer(\n",
    "    (StandardScaler(), features_num),\n",
    "    (OneHotEncoder(), features_cat),\n",
    ")\n",
    "\n",
    "# We'll do a \"grouped\" split to keep all of an artist's songs in one\n",
    "# split or the other. This is to help prevent signal leakage.\n",
    "def group_split(X, y, group, train_size=0.75):\n",
    "    splitter = GroupShuffleSplit(train_size=train_size)\n",
    "    train, test = next(splitter.split(X, y, groups=group))\n",
    "    return (X.iloc[train], X.iloc[test], y.iloc[train], y.iloc[test])\n",
    "\n",
    "X_train__spot, X_valid__spot, y_train__spot, y_valid__spot = group_split(X_spot, y_spot, artists)\n",
    "\n",
    "X_train__spot = preprocessor.fit_transform(X_train__spot)\n",
    "X_valid__spot = preprocessor.transform(X_valid__spot)\n",
    "y_train__spot = y_train__spot / 100 # popularity is on a scale 0-100, so this rescales to 0-1.\n",
    "y_valid__spot = y_valid__spot / 100\n",
    "\n",
    "display(pd.DataFrame(X_spot).head())"
   ]
  },
  {
   "cell_type": "markdown",
   "metadata": {},
   "source": [
    "## Ionosphere\n",
    "\n",
    "The [Ionosphere](https://archive.ics.uci.edu/ml/datasets/Ionosphere) dataset contains features obtained from radar signals focused on the ionosphere layer of the Earth's atmosphere. An ML task could determine whether the signal shows the presence of some object, or just empty air."
   ]
  },
  {
   "cell_type": "code",
   "execution_count": 5,
   "metadata": {
    "colab": {
     "base_uri": "https://localhost:8080/",
     "height": 256
    },
    "executionInfo": {
     "elapsed": 445,
     "status": "ok",
     "timestamp": 1712821457924,
     "user": {
      "displayName": "Kirkwood Donavin",
      "userId": "13583733505128294183"
     },
     "user_tz": 360
    },
    "id": "oSoD3hY7Da7d",
    "outputId": "3c6a2576-52e8-4cdf-c0bc-af4d0cb1c197"
   },
   "outputs": [
    {
     "data": {
      "text/html": [
       "<div>\n",
       "<style scoped>\n",
       "    .dataframe tbody tr th:only-of-type {\n",
       "        vertical-align: middle;\n",
       "    }\n",
       "\n",
       "    .dataframe tbody tr th {\n",
       "        vertical-align: top;\n",
       "    }\n",
       "\n",
       "    .dataframe thead th {\n",
       "        text-align: right;\n",
       "    }\n",
       "</style>\n",
       "<table border=\"1\" class=\"dataframe\">\n",
       "  <thead>\n",
       "    <tr style=\"text-align: right;\">\n",
       "      <th></th>\n",
       "      <th>0</th>\n",
       "      <th>1</th>\n",
       "      <th>2</th>\n",
       "      <th>3</th>\n",
       "      <th>4</th>\n",
       "      <th>5</th>\n",
       "      <th>6</th>\n",
       "      <th>7</th>\n",
       "      <th>8</th>\n",
       "      <th>9</th>\n",
       "      <th>...</th>\n",
       "      <th>25</th>\n",
       "      <th>26</th>\n",
       "      <th>27</th>\n",
       "      <th>28</th>\n",
       "      <th>29</th>\n",
       "      <th>30</th>\n",
       "      <th>31</th>\n",
       "      <th>32</th>\n",
       "      <th>33</th>\n",
       "      <th>Class</th>\n",
       "    </tr>\n",
       "  </thead>\n",
       "  <tbody>\n",
       "    <tr>\n",
       "      <th>0</th>\n",
       "      <td>1</td>\n",
       "      <td>0</td>\n",
       "      <td>0.99539</td>\n",
       "      <td>-0.05889</td>\n",
       "      <td>0.85243</td>\n",
       "      <td>0.02306</td>\n",
       "      <td>0.83398</td>\n",
       "      <td>-0.37708</td>\n",
       "      <td>1.00000</td>\n",
       "      <td>0.03760</td>\n",
       "      <td>...</td>\n",
       "      <td>-0.51171</td>\n",
       "      <td>0.41078</td>\n",
       "      <td>-0.46168</td>\n",
       "      <td>0.21266</td>\n",
       "      <td>-0.34090</td>\n",
       "      <td>0.42267</td>\n",
       "      <td>-0.54487</td>\n",
       "      <td>0.18641</td>\n",
       "      <td>-0.45300</td>\n",
       "      <td>0</td>\n",
       "    </tr>\n",
       "    <tr>\n",
       "      <th>1</th>\n",
       "      <td>1</td>\n",
       "      <td>0</td>\n",
       "      <td>1.00000</td>\n",
       "      <td>-0.18829</td>\n",
       "      <td>0.93035</td>\n",
       "      <td>-0.36156</td>\n",
       "      <td>-0.10868</td>\n",
       "      <td>-0.93597</td>\n",
       "      <td>1.00000</td>\n",
       "      <td>-0.04549</td>\n",
       "      <td>...</td>\n",
       "      <td>-0.26569</td>\n",
       "      <td>-0.20468</td>\n",
       "      <td>-0.18401</td>\n",
       "      <td>-0.19040</td>\n",
       "      <td>-0.11593</td>\n",
       "      <td>-0.16626</td>\n",
       "      <td>-0.06288</td>\n",
       "      <td>-0.13738</td>\n",
       "      <td>-0.02447</td>\n",
       "      <td>1</td>\n",
       "    </tr>\n",
       "    <tr>\n",
       "      <th>2</th>\n",
       "      <td>1</td>\n",
       "      <td>0</td>\n",
       "      <td>1.00000</td>\n",
       "      <td>-0.03365</td>\n",
       "      <td>1.00000</td>\n",
       "      <td>0.00485</td>\n",
       "      <td>1.00000</td>\n",
       "      <td>-0.12062</td>\n",
       "      <td>0.88965</td>\n",
       "      <td>0.01198</td>\n",
       "      <td>...</td>\n",
       "      <td>-0.40220</td>\n",
       "      <td>0.58984</td>\n",
       "      <td>-0.22145</td>\n",
       "      <td>0.43100</td>\n",
       "      <td>-0.17365</td>\n",
       "      <td>0.60436</td>\n",
       "      <td>-0.24180</td>\n",
       "      <td>0.56045</td>\n",
       "      <td>-0.38238</td>\n",
       "      <td>0</td>\n",
       "    </tr>\n",
       "    <tr>\n",
       "      <th>3</th>\n",
       "      <td>1</td>\n",
       "      <td>0</td>\n",
       "      <td>1.00000</td>\n",
       "      <td>-0.45161</td>\n",
       "      <td>1.00000</td>\n",
       "      <td>1.00000</td>\n",
       "      <td>0.71216</td>\n",
       "      <td>-1.00000</td>\n",
       "      <td>0.00000</td>\n",
       "      <td>0.00000</td>\n",
       "      <td>...</td>\n",
       "      <td>0.90695</td>\n",
       "      <td>0.51613</td>\n",
       "      <td>1.00000</td>\n",
       "      <td>1.00000</td>\n",
       "      <td>-0.20099</td>\n",
       "      <td>0.25682</td>\n",
       "      <td>1.00000</td>\n",
       "      <td>-0.32382</td>\n",
       "      <td>1.00000</td>\n",
       "      <td>1</td>\n",
       "    </tr>\n",
       "    <tr>\n",
       "      <th>4</th>\n",
       "      <td>1</td>\n",
       "      <td>0</td>\n",
       "      <td>1.00000</td>\n",
       "      <td>-0.02401</td>\n",
       "      <td>0.94140</td>\n",
       "      <td>0.06531</td>\n",
       "      <td>0.92106</td>\n",
       "      <td>-0.23255</td>\n",
       "      <td>0.77152</td>\n",
       "      <td>-0.16399</td>\n",
       "      <td>...</td>\n",
       "      <td>-0.65158</td>\n",
       "      <td>0.13290</td>\n",
       "      <td>-0.53206</td>\n",
       "      <td>0.02431</td>\n",
       "      <td>-0.62197</td>\n",
       "      <td>-0.05707</td>\n",
       "      <td>-0.59573</td>\n",
       "      <td>-0.04608</td>\n",
       "      <td>-0.65697</td>\n",
       "      <td>0</td>\n",
       "    </tr>\n",
       "  </tbody>\n",
       "</table>\n",
       "<p>5 rows × 35 columns</p>\n",
       "</div>"
      ],
      "text/plain": [
       "   0  1        2        3        4        5        6        7        8  \\\n",
       "0  1  0  0.99539 -0.05889  0.85243  0.02306  0.83398 -0.37708  1.00000   \n",
       "1  1  0  1.00000 -0.18829  0.93035 -0.36156 -0.10868 -0.93597  1.00000   \n",
       "2  1  0  1.00000 -0.03365  1.00000  0.00485  1.00000 -0.12062  0.88965   \n",
       "3  1  0  1.00000 -0.45161  1.00000  1.00000  0.71216 -1.00000  0.00000   \n",
       "4  1  0  1.00000 -0.02401  0.94140  0.06531  0.92106 -0.23255  0.77152   \n",
       "\n",
       "         9  ...       25       26       27       28       29       30  \\\n",
       "0  0.03760  ... -0.51171  0.41078 -0.46168  0.21266 -0.34090  0.42267   \n",
       "1 -0.04549  ... -0.26569 -0.20468 -0.18401 -0.19040 -0.11593 -0.16626   \n",
       "2  0.01198  ... -0.40220  0.58984 -0.22145  0.43100 -0.17365  0.60436   \n",
       "3  0.00000  ...  0.90695  0.51613  1.00000  1.00000 -0.20099  0.25682   \n",
       "4 -0.16399  ... -0.65158  0.13290 -0.53206  0.02431 -0.62197 -0.05707   \n",
       "\n",
       "        31       32       33  Class  \n",
       "0 -0.54487  0.18641 -0.45300      0  \n",
       "1 -0.06288 -0.13738 -0.02447      1  \n",
       "2 -0.24180  0.56045 -0.38238      0  \n",
       "3  1.00000 -0.32382  1.00000      1  \n",
       "4 -0.59573 -0.04608 -0.65697      0  \n",
       "\n",
       "[5 rows x 35 columns]"
      ]
     },
     "metadata": {},
     "output_type": "display_data"
    }
   ],
   "source": [
    "import pandas as pd\n",
    "from IPython.display import display\n",
    "\n",
    "ion_df = pd.read_csv('DATA/ionosphere.csv', header=None)\n",
    "ion_df = ion_df.rename(columns={34:'Class'})\n",
    "ion_df['Class'] = ion_df['Class'].map({'g': 0, 'b': 1})\n",
    "display(ion_df.head())\n",
    "\n",
    "ion_df_train = ion_df.sample(frac=0.7, random_state=0)\n",
    "ion_df_valid = ion_df.drop(ion_df_train.index)\n",
    "\n",
    "max_ = ion_df_train.max(axis=0)\n",
    "min_ = ion_df_train.min(axis=0)\n",
    "\n",
    "ion_df_train = (ion_df_train - min_) / (max_ - min_)\n",
    "ion_df_valid = (ion_df_valid - min_) / (max_ - min_)\n",
    "ion_df_train.dropna(axis=1, inplace=True) # drop the empty feature in column 2\n",
    "ion_df_valid.dropna(axis=1, inplace=True)\n",
    "\n",
    "X_train_ion = ion_df_train.drop('Class', axis=1)\n",
    "X_valid_ion = ion_df_valid.drop('Class', axis=1)\n",
    "y_train_ion = ion_df_train['Class']\n",
    "y_valid_ion = ion_df_valid['Class']"
   ]
  },
  {
   "cell_type": "code",
   "execution_count": 6,
   "metadata": {
    "colab": {
     "base_uri": "https://localhost:8080/"
    },
    "executionInfo": {
     "elapsed": 5,
     "status": "ok",
     "timestamp": 1712819713599,
     "user": {
      "displayName": "Kirkwood Donavin",
      "userId": "13583733505128294183"
     },
     "user_tz": 360
    },
    "id": "-QbHk7tK352h",
    "outputId": "ec943192-9b4e-4b26-f261-4dd8499f4823"
   },
   "outputs": [],
   "source": [
    "# Animation of Tensorflow Training\n",
    "# Source: https://www.kaggle.com/code/ryanholbrook/deep-learning-animations-and-illustrations\n",
    "from tensorflow import keras\n",
    "import tensorflow as tf\n",
    "from tensorflow.keras import layers\n",
    "\n",
    "import numpy as np\n",
    "\n",
    "import matplotlib as mpl\n",
    "import matplotlib.pyplot as plt\n",
    "from matplotlib import animation, rc\n",
    "rc('animation', html='html5')\n",
    "\n",
    "# NUM_EXAMPLES = 256\n",
    "# BATCH_SIZE = 8\n",
    "# STEPS = 50 # actually steps\n",
    "# LR = 0.1\n",
    "\n",
    "def animate_sgd(num_examples, batch_size, steps, learning_rate,\n",
    "                true_w=3.0, true_b=2.0, seed=0):\n",
    "    # Define model\n",
    "    class Model(object):\n",
    "        def __init__(self, w_init=-1.0, b_init=-1.0):\n",
    "            self.W = tf.Variable(w_init)\n",
    "            self.b = tf.Variable(b_init)\n",
    "\n",
    "        def __call__(self, x):\n",
    "            return self.W * x + self.b\n",
    "\n",
    "    def loss(target_y, predicted_y):\n",
    "        return tf.reduce_mean(tf.square(target_y - predicted_y))\n",
    "\n",
    "    def train(model, inputs, outputs, learning_rate):\n",
    "        with tf.GradientTape() as t:\n",
    "            current_loss = loss(outputs, model(inputs))\n",
    "            dW, db = t.gradient(current_loss, [model.W, model.b])\n",
    "            model.W.assign_sub(learning_rate * dW)\n",
    "            model.b.assign_sub(learning_rate * db)\n",
    "    # Data\n",
    "    inputs  = tf.random.normal(shape=[num_examples], seed=seed)\n",
    "    noise   = tf.random.normal(shape=[num_examples], seed=seed+1)\n",
    "    outputs = inputs * true_w + true_b + noise\n",
    "    ds = (tf.data.Dataset\n",
    "          .from_tensor_slices((inputs, outputs))\n",
    "          .shuffle(1000, seed=seed)\n",
    "          .batch(batch_size)\n",
    "          .repeat())\n",
    "    ds = iter(ds)\n",
    "    model = Model()\n",
    "    # Collect the history of W-values and b-values to plot later\n",
    "    Ws, bs, xs, ys, ls = [], [], [], [], []\n",
    "    # Construct plot\n",
    "    fig = plt.figure(dpi=100, figsize=(8, 3))\n",
    "\n",
    "    # Regression Line\n",
    "    ax1 = fig.add_subplot(131)\n",
    "    ax1.set_title(\"Fitted Line\")\n",
    "    ax1.set_xlabel(\"x\")\n",
    "    ax1.set_ylabel(\"y\")\n",
    "    ax1.set_xlim(-3, 2.5)\n",
    "    ax1.set_ylim(-8, 11)\n",
    "    p10, = ax1.plot(inputs, outputs, 'r.', alpha=0.1) # full dataset\n",
    "    p11, = ax1.plot([], [], 'C3.') # batch, color Red\n",
    "    p12, = ax1.plot([], [], 'k') # fitted line, color Black\n",
    "\n",
    "    # Loss\n",
    "    ax2 = fig.add_subplot(132)\n",
    "    ax2.set_title(\"Training Loss\")\n",
    "    ax2.set_xlabel(\"Batches Seen\")\n",
    "    ax2.set_xlim(0, steps)\n",
    "    ax2.set_ylim(0, 40)\n",
    "    p20, = ax2.plot([], [], 'C0') # color Blue\n",
    "\n",
    "    # Weights\n",
    "    ax3 = fig.add_subplot(133)\n",
    "    ax3.set_title(\"Weights\")\n",
    "    ax3.set_xlabel(\"Batches Seen\")\n",
    "    ax3.set_xlim(0, steps)     #\n",
    "    ax3.set_ylim(-2, 4)\n",
    "    ax3.plot(range(steps), [true_w for _ in range(steps)], 'C5--')\n",
    "    ax3.plot(range(steps), [true_b for _ in range(steps)], 'C8--')\n",
    "    p30, = ax3.plot([], [], 'C5') # W color Brown\n",
    "    p30.set_label('W')\n",
    "    p31, = ax3.plot([], [], 'C8') # b color Green\n",
    "    p31.set_label('b')\n",
    "    ax3.legend()\n",
    "\n",
    "    fig.tight_layout()\n",
    "\n",
    "    def init():\n",
    "        return [p10]\n",
    "\n",
    "    def update(epoch):\n",
    "        x, y = next(ds)\n",
    "        y_pred = model(x)\n",
    "        current_loss = loss(y, y_pred)\n",
    "\n",
    "        Ws.append(model.W.numpy())\n",
    "        bs.append(model.b.numpy())\n",
    "        xs.append(x.numpy())\n",
    "        ys.append(y_pred.numpy())\n",
    "        ls.append(current_loss.numpy())\n",
    "        p11.set_data(x.numpy(), y.numpy())\n",
    "        inputs = tf.linspace(-3.0, 2.5, 30)\n",
    "        p12.set_data(inputs, Ws[-1]*inputs + bs[-1])\n",
    "        p20.set_data(range(epoch), ls)\n",
    "        p30.set_data(range(epoch), Ws)\n",
    "        p31.set_data(range(epoch), bs)\n",
    "\n",
    "        train(model, x, y, learning_rate=learning_rate)\n",
    "        #   print('Epoch %2d: W=%1.2f b=%1.2f, loss=%2.5f' %\n",
    "        #         (epoch, Ws[-1], bs[-1], current_loss))\n",
    "\n",
    "        return p11, p12, p20\n",
    "\n",
    "    ani = animation.FuncAnimation(\n",
    "        fig,\n",
    "        update,\n",
    "        frames=range(1, steps),\n",
    "        init_func=init,\n",
    "        blit=True,\n",
    "        interval=100,\n",
    "    )\n",
    "    plt.close()\n",
    "    return ani\n"
   ]
  },
  {
   "cell_type": "markdown",
   "metadata": {
    "id": "ieNc6wq_4BN0",
    "jp-MarkdownHeadingCollapsed": true
   },
   "source": [
    "# TensorFlow\n",
    "\n",
    "TensorFlow is a general-purpose system for graph-based computation."
   ]
  },
  {
   "cell_type": "markdown",
   "metadata": {
    "id": "lv9Ewwrrm6WP"
   },
   "source": [
    "# Deep Learning\n",
    "\n",
    "Deep learning is an approach to machine learning characterized by deep stacks of computations. This depth of computation is what has enabled deep learning models to disentangle the kinds of complex and hierarchical patterns found in the most challenging real-world datasets."
   ]
  },
  {
   "cell_type": "markdown",
   "metadata": {
    "id": "ZOnmHlJBNsgX"
   },
   "source": [
    "## A Single Neuron\n",
    "\n",
    "<img src='IMAGES/A single neuron.png'>\n",
    "\n",
    "The input is $x$. Its connection to the neuron has a weight which is $w$. Whenever a value flows through a connection, you multiply the value by the connection's weight. For the input $x$, what reaches the neuron is $w \\times x$. A neural network \"learns\" by modifying its weights.\n",
    "\n",
    "The $b$ is a special kind of weight we call the bias. The bias doesn't have any input data associated with it; instead, we put a 1 in the diagram so that the value that reaches the neuron is just $b$. The bias enables the neuron to modify the output independently of its inputs.\n",
    "\n",
    "The y is the value the neuron ultimately outputs. To get the output, the neuron sums up all the values it receives through its connections. This neuron's activation is $y = w \\times x + b$.\n",
    "\n",
    "To include additional inputs, simply add more input connections. The formula for a neuron with $n$ inputs would be would be $y= w_0 \\cdot x_0 + w_1 \\cdot x_1 + w_2 \\cdot x_2 + \\dots + w_{n-1} \\cdot x_{n-1} + b$. A linear unit with two inputs will fit a plane, and a unit with more inputs than that will fit a hyperplane.\n",
    "\n",
    "<img src='IMAGES/a neuron with mult inputs.png'>\n",
    "\n",
    "Neural networks typically organize their neurons into layers. When we collect together linear units having a common set of inputs we get a dense layer. A linear unit (`units=1`) with 3 feature inputs may be created in TensorFlow with `Dense()` layer like this:"
   ]
  },
  {
   "cell_type": "code",
   "execution_count": 10,
   "metadata": {
    "id": "nC1Dw2sguknz"
   },
   "outputs": [],
   "source": [
    "from tensorflow import keras\n",
    "from tensorflow.keras import layers, Input\n",
    "\n",
    "# Create a network with 1 linear unit\n",
    "model = keras.Sequential([\n",
    "    Input(shape=[11])\n",
    "    , layers.Dense(units=1)\n",
    "])"
   ]
  },
  {
   "cell_type": "markdown",
   "metadata": {
    "id": "1qBGtJAqfqoh"
   },
   "source": [
    "# Network Layers\n",
    "\n",
    "The key to building neural networks is _modularity_: building complex machine learning algorithms from simpler units called _Layers_. You could think of each layer in a neural network as performing some kind of relatively simple transformation. Through a deep stack of layers, a neural network can transform its inputs in more and more complex ways.\n",
    "\n",
    "A \"layer\" in Keras can be, essentially, any kind of data transformation. Many layers, like the convolutional and recurrent layers, transform data through use of neurons and differ primarily in the pattern of connections they form. Others though are used for feature engineering or just simple arithmetic.\n"
   ]
  },
  {
   "cell_type": "markdown",
   "metadata": {
    "id": "jlxA_QPxZRa4"
   },
   "source": [
    "## Dense Layers\n",
    "\n",
    "A collection of linear units with a common set of features. They may be created in TensorFlow with the following:\n",
    "\n",
    "* `Dense(<units>, <input_shape>)`: A collection of linear units of count `units` with a common set of features of shape `input_shape`.\n",
    "\n",
    "Layers the precede the _output layer_ are called _hidden_, as we never see (nor could we understand) their outputs directly."
   ]
  },
  {
   "cell_type": "markdown",
   "metadata": {
    "id": "GRYMeGbCZvBJ"
   },
   "source": [
    "## Sequential Layers\n",
    "\n",
    "A _sequential model_ connects layers together in an order from first to last. In TensorFlow we can build a `Sequential` of layers like the following:"
   ]
  },
  {
   "cell_type": "code",
   "execution_count": 11,
   "metadata": {
    "id": "kmQpM1jraMd8"
   },
   "outputs": [],
   "source": [
    "from tensorflow import keras\n",
    "from tensorflow.keras import layers, Input\n",
    "\n",
    "model = keras.Sequential([\n",
    "    Input(shape=[8])\n",
    "    # the hidden ReLU layers\n",
    "    , layers.Dense(units = 512, activation = 'relu')\n",
    "    , layers.Dense(units = 512, activation = 'relu')\n",
    "    , layers.Dense(units = 512, activation = 'relu')\n",
    "    # the linear output layer\n",
    "    , layers.Dense(units = 1),\n",
    "])"
   ]
  },
  {
   "cell_type": "markdown",
   "metadata": {
    "id": "EXULdXiRaZ4p"
   },
   "source": [
    "Note that `layers` are passed together in a list, like `[layer, layer, layer, ...]`, instead of as separate arguments. To add an activation function to a layer, just give its name in the `activation` argument. Also note that the first layer in the `Sequential` network _must_ take and `input_shape`."
   ]
  },
  {
   "cell_type": "markdown",
   "metadata": {
    "id": "81Z-zLJbRMmI"
   },
   "source": [
    "## Drop-Out Layers\n",
    "\n",
    "A [`Dropout`](https://www.tensorflow.org/api_docs/python/tf/keras/layers/Dropout) layer can help prevent _overfitting_ (see Model Fit). Some fraction (`rate`)  of a layer's input units are dropped each step of training, making it much harder for the network to learn spurious (i.e., noisy) patterns in the training data. Instead, it has to search for broad, general patterns, whose weight patterns tend to be more robust.\n",
    "\n",
    "![Drop Out](IMAGES/drop_out.gif)\n",
    "\n",
    "Drop-out may also be thought of as creating a kind of _ensemble_ (such as ensemble ML algorithms) of networks. The predictions will no longer be made by one big network, but instead by a committee of smaller networks. Individuals in the committee tend to make different kinds of mistakes, but be right at the same time, making the committee as a whole better than any individual.\n",
    "\n",
    "```python\n",
    "keras.Sequential([\n",
    "    # ...\n",
    "    layers.Dropout(rate=0.3), # apply 30% dropout to the next layer\n",
    "    layers.Dense(16),\n",
    "    # ...\n",
    "])\n",
    "```"
   ]
  },
  {
   "cell_type": "markdown",
   "metadata": {
    "id": "dppDe4HR2p_M"
   },
   "source": [
    "## Batch Normalization Layers\n",
    "\n",
    "Batch normalization can help improve training that is slow or unstable. With neural networks, it's generally a good idea to put all of your data on a common scale, perhaps with something like scikit-learn's [`StandardScaler`](https://scikit-learn.org/stable/modules/generated/sklearn.preprocessing.StandardScaler.html) or [`MinMaxScaler`](https://scikit-learn.org/stable/modules/generated/sklearn.preprocessing.MinMaxScaler.html#sklearn.preprocessing.MinMaxScaler). The reason is that SGD will shift the network weights in proportion to how large an activation the data produces due to their rusulting errors' size in the loss function. Features that tend to produce activations of very different sizes can make for unstable training behavior.\n",
    "\n",
    "For the same reasons that normalization is important for training data overall, [`BatchNormalization`](https://www.tensorflow.org/api_docs/python/tf/keras/layers/BatchNormalization) layers can be even better (why?). Each time batch data passes through this layer, it is normalized with each features mean and standard deviation. In addition to this standard normalization, the data are put on a new real number scale with 2 trainable rescaling parameters.\n",
    "\n",
    "In general, _batchnorm_ improves the training process, although sometimes it could help with precition performance. Models with batchnorm tend to need fewer epochs to complete training. Moreover, batchnorm can also fix various problems that can cause the training to get \"stuck\".\n",
    "\n",
    "It seems that batch normalization can be used at almost any point in a network. You can put it after a layer...\n",
    "\n",
    "```python\n",
    "from tensorflow.keras import layers\n",
    "...\n",
    ", layers.Dense(16, activation='relu')\n",
    ", layers.BatchNormalization()\n",
    ", ...\n",
    "```\n",
    "\n",
    "... or between a layer and its activation function:\n",
    "\n",
    "```python\n",
    "...\n",
    ", layers.Dense(16)\n",
    ", layers.BatchNormalization()\n",
    ", layers.Activation('relu')\n",
    "...\n",
    "```\n",
    "\n",
    "And if you add it as the first layer of your network it can act as a kind of adaptive preprocessor, standing in for something like Sci-Kit Learn's `StandardScaler`."
   ]
  },
  {
   "cell_type": "markdown",
   "metadata": {
    "id": "QGYfQoA3qFj-"
   },
   "source": [
    "## Activation Functions\n",
    "\n",
    "It turns out, however, that two dense layers with nothing in between are no better than a single dense layer by itself. Dense layers by themselves can never move us out of the world of lines and planes. What we need is something nonlinear. This is the function of activation functions.\n",
    "\n",
    "An _activation function_ is simply some function we apply to each of a layer's outputs (i.e., its activations). The most common activation function is the _rectifier_ function: $f(x) = \\text{max}(0,x)$.\n",
    "\n",
    "<img src='IMAGES/rectifier.png'>\n",
    "\n",
    "The rectifier function has a graph that's a line with the negative part \"rectified\" to zero. Applying the function to the outputs of a neuron will put a bend in the data, moving us away from simple linearity. When we attach the rectifier to a linear unit, we get a rectified linear unit or ReLU. Applying a ReLU activation to a linear unit means the output becomes $f(x) = \\text{max}(0, w \\cdot x + b)$, which we might draw in a diagram like:\n",
    "\n",
    "<img src='IMAGES/relu.png'>\n",
    "\n",
    "Activation functions may be used in between layers similar to the following."
   ]
  },
  {
   "cell_type": "code",
   "execution_count": 12,
   "metadata": {
    "id": "XQWF-HCmvUOc"
   },
   "outputs": [],
   "source": [
    "from tensorflow import keras\n",
    "from tensorflow.keras import layers\n",
    "\n",
    "model = keras.Sequential([\n",
    "    Input(shape=[8])\n",
    "    , layers.Dense(32)\n",
    "    , layers.Activation('relu')\n",
    "    , layers.Dense(32)\n",
    "    , layers.Activation('relu')\n",
    "    , layers.Dense(1)\n",
    "])"
   ]
  },
  {
   "cell_type": "markdown",
   "metadata": {
    "id": "fSCx-rrNCNuS"
   },
   "source": [
    "### Common Activations Functions\n",
    "\n",
    "* `'sigmoid'`: Sigmoid function, `sigmoid(x) = 1 / (1 + exp(-x))`\n",
    "* `'softmax'`: Softmax converts a vector of values to a probability distribution\n",
    "* `'relu'`: Rectified linear unit function, the old standard. Tends to do well on most problems.\n",
    "* `'elu'`: Exponential linear unit function.\n",
    "* `'selu'`: Scaled exponential linear unit function\n",
    "* `'swish'`: Swish activation function, `swish(x) = x * sigmoid(x)`\n",
    "\n",
    "TensorFlow includes all the common activation functions in the `nn` sub-module or in `tf.keras.activations`."
   ]
  },
  {
   "cell_type": "code",
   "execution_count": 13,
   "metadata": {
    "colab": {
     "base_uri": "https://localhost:8080/",
     "height": 449
    },
    "executionInfo": {
     "elapsed": 230,
     "status": "ok",
     "timestamp": 1712707818347,
     "user": {
      "displayName": "Kirkwood Donavin",
      "userId": "13583733505128294183"
     },
     "user_tz": 360
    },
    "id": "RkO0Uz3myD2N",
    "outputId": "b54a1d65-52b3-4753-87ed-61613541ce34"
   },
   "outputs": [
    {
     "data": {
      "image/png": "[encoded data removed]",
      "text/plain": [
       "<Figure size 640x480 with 1 Axes>"
      ]
     },
     "metadata": {},
     "output_type": "display_data"
    }
   ],
   "source": [
    "import tensorflow as tf\n",
    "from tensorflow.keras import layers\n",
    "import matplotlib.pyplot as plt\n",
    "\n",
    "func = 'swish' # Change to: 'relu' 'elu', 'selu', 'swish'... or something else\n",
    "activation_layer = layers.Activation(func)\n",
    "\n",
    "x = tf.linspace(-3.0, 3.0, 100)\n",
    "y = activation_layer(x) # once created, a layer is callable just like a function\n",
    "\n",
    "plt.figure(dpi=100)\n",
    "plt.plot(x, y)\n",
    "plt.grid(which='major')\n",
    "plt.xlim(-3, 3)\n",
    "plt.xlabel(\"Input\")\n",
    "plt.ylabel(\"Output\")\n",
    "plt.title('Activation Function: ' + func)\n",
    "plt.xlabel('x')\n",
    "plt.ylabel('y = ' + func + '(x)')\n",
    "plt.show()"
   ]
  },
  {
   "cell_type": "markdown",
   "metadata": {
    "id": "e9fIRXq-FK8l"
   },
   "source": [
    "### Sigmoid Activation - Classification Layers\n",
    "\n",
    "In order to produce classification predictions, the neural network needs a function to ultimately represent probabilities (of class) rather than some other type of real-number output. For instance, if there are 3 classes: \"dog\", \"cat\" and \"bird\", we may select as final layer `layers.Dense(3)` to produce 3 values for each class. Yet, these values would not be useful in determining the correct classification for a given input (e.g., What class should be assign an output with a high value for \"dog\", but an even greater _negative_ value for \"cat\"?). However, if we _activate_ these values with a sigmoid function $\\left( \\text{i.e., }f(x) = \\frac{1}{1+e^x}\\right)$ to produce values for each class on the probabilistic scale, $[0,1]$. These predicted values may then be used in a probabilistic loss function, such as _cross entropy_."
   ]
  },
  {
   "cell_type": "code",
   "execution_count": 14,
   "metadata": {
    "colab": {
     "base_uri": "https://localhost:8080/",
     "height": 472
    },
    "executionInfo": {
     "elapsed": 10,
     "status": "ok",
     "timestamp": 1712718020392,
     "user": {
      "displayName": "Kirkwood Donavin",
      "userId": "13583733505128294183"
     },
     "user_tz": 360
    },
    "id": "RsZJRiVePne0",
    "outputId": "e2ed44bc-72cd-4cea-89d7-182db6d444ca"
   },
   "outputs": [
    {
     "data": {
      "image/png": "[encoded data removed]",
      "text/plain": [
       "<Figure size 640x480 with 1 Axes>"
      ]
     },
     "metadata": {},
     "output_type": "display_data"
    }
   ],
   "source": [
    "import pandas as pd\n",
    "import matplotlib.pyplot as plt\n",
    "import tensorflow as tf\n",
    "from tensorflow.keras import layers\n",
    "\n",
    "# Create a dataframe of x and y values\n",
    "activation_layer = layers.Activation('sigmoid')\n",
    "df = pd.DataFrame({'x': tf.linspace(-6, 6, 100)})\n",
    "df['y'] = activation_layer(df['x']) # once created, a layer is callable just like a function\n",
    "\n",
    "# Plot the sigmoid graph\n",
    "plt.plot(df['x'], df['y'])\n",
    "plt.grid(which='major')\n",
    "plt.yticks(ticks=[0.0, 0.25, 0.5, 0.75, 1.0])\n",
    "plt.xlabel('x')\n",
    "plt.ylabel('y = Sigmoid(x)')\n",
    "plt.title('Sigmoid Activation')\n",
    "plt.show()"
   ]
  },
  {
   "cell_type": "markdown",
   "metadata": {
    "id": "8RbWHlDETyU2"
   },
   "source": [
    "If a final class prediction is desired (rather than a raw probability), we define a _threshold_ for each predicted probability. Typically, this is $p_t=0.5$ but may be adjusted based on the relative consequences of false positives vs. false negatives."
   ]
  },
  {
   "cell_type": "markdown",
   "metadata": {},
   "source": [
    "## Other Layers\n",
    "\n",
    "- `tf.keras.Input(<shape>)`: Preferred over specifying input `shape` in the first layer"
   ]
  },
  {
   "cell_type": "markdown",
   "metadata": {
    "id": "2HscAlj1feyP"
   },
   "source": [
    "# Loss Functions\n",
    "\n",
    "A measurement of how \"good\" a neural network's (or any ML algorithm's) predictions are. Loss functions tell the network what problem to solve. More precisely, it measures the difference between a target's true value and a value the model predicts.\n",
    "\n",
    "For a TensorFlow `model`, the loss function is set by the `.compile(loss=<func>)` method.\n",
    "\n",
    "Loss functions in TensorFlow include:\n",
    "\n",
    "- `'mae'`: Mean absolute error\n",
    "- `'mse'`: Mean squared error"
   ]
  },
  {
   "cell_type": "markdown",
   "metadata": {
    "id": "cT9MXtJHN44t"
   },
   "source": [
    "## Cross Entropy\n",
    "\n",
    "Cross entropy (AKA \"log loss\") provides a loss function that measures the distance between probabilities. In _binary classification_, where the number of classes is $M = 2$, cross-entropy can be calculated as:\n",
    "\n",
    "$$\n",
    "−(y_i\\ln(\\hat{p_i})+(1−y_i)\\ln(1−\\hat{p_i}))\n",
    "$$\n",
    "\n",
    "Where $y_i$ is a _binary indicator_ of whether the binary class is of the first type or the second, and $\\hat{p}_i$ is the predicted probability of such, each for observation $i$. If $M>2$ (i.e., _multi-classification), we calculate a separate loss for each class label per observation and sum the result:\n",
    "\n",
    "$$\n",
    "-\\sum_{c=1}^My_{i,c}\\ln(\\hat{p}_{i,c})\n",
    "$$\n",
    "\n",
    "- $M$ is the number of classes\n",
    "- $y_{i,c}$ is a binary indicator ($\\{0, 1\\}$) for observation $i$ regarding class $c$\n",
    "- $\\hat{p}_{i,c}$ is the predicted probability that observation $i$ is of class $c$.\n",
    "\n",
    "Ideally, our network will predict the correct class with probability 1.0. The further away the predicted probability is from 1.0, the greater will be the cross-entropy loss.\n",
    "\n",
    "Using a loss function such as cross entropy in classification problems is partially motivated by a difficulty in using as a loss functions the more basic measures of classification performance: accuracy, recall and precision. SGD _requires_ a smooth loss function. Yet, these performance metrics change in \"jumps\" due to the whole number fractions being calculated in each. And besides, these metrics _tend_ to improve with a performance improvment in log-loss.\n",
    "\n",
    "The following is a binary classification problem using a cross entropy loss function."
   ]
  },
  {
   "cell_type": "code",
   "execution_count": 17,
   "metadata": {},
   "outputs": [
    {
     "name": "stdout",
     "output_type": "stream",
     "text": [
      "Best Validation Loss: 0.3378\n",
      "Best Validation Accuracy: 0.8667\n"
     ]
    },
    {
     "data": {
      "image/png": "[encoded data removed]",
      "text/plain": [
       "<Figure size 640x480 with 1 Axes>"
      ]
     },
     "metadata": {},
     "output_type": "display_data"
    },
    {
     "data": {
      "image/png": "[encoded data removed]",
      "text/plain": [
       "<Figure size 640x480 with 1 Axes>"
      ]
     },
     "metadata": {},
     "output_type": "display_data"
    }
   ],
   "source": [
    "from tensorflow import keras\n",
    "from tensorflow.keras import layers\n",
    "\n",
    "#Modelling\n",
    "model = keras.Sequential([\n",
    "    layers.Input(shape=[33])\n",
    "    , layers.Dense(4, activation='relu')\n",
    "    , layers.Dense(4, activation='relu')\n",
    "    , layers.Dense(1, activation='sigmoid') #To produce class probabilities\n",
    "])\n",
    "model.compile(\n",
    "    optimizer='adam',\n",
    "    loss='binary_crossentropy', #Note that multi-classification problems will use a different loss function\n",
    "    metrics=['binary_accuracy'],\n",
    ")\n",
    "\n",
    "#Results\n",
    "##Note that this training may take some time\n",
    "early_stopping = keras.callbacks.EarlyStopping(\n",
    "    patience=10,\n",
    "    min_delta=0.001,\n",
    "    restore_best_weights=True,\n",
    ")\n",
    "history = model.fit(\n",
    "    X_train_ion, y_train_ion,\n",
    "    validation_data=(X_valid_ion, y_valid_ion),\n",
    "    batch_size=512,\n",
    "    epochs=1000,\n",
    "    callbacks=[early_stopping],\n",
    "    verbose=0, # hide the output because we have so many epochs\n",
    ")\n",
    "history_df = pd.DataFrame(history.history)\n",
    "# Start the plot at epoch 5\n",
    "history_df.loc[5:, ['loss', 'val_loss']].plot()\n",
    "history_df.loc[5:, ['binary_accuracy', 'val_binary_accuracy']].plot()\n",
    "\n",
    "print((\"Best Validation Loss: {:0.4f}\" +\\\n",
    "      \"\\nBest Validation Accuracy: {:0.4f}\")\\\n",
    "      .format(history_df['val_loss'].min(), \n",
    "              history_df['val_binary_accuracy'].max()))"
   ]
  },
  {
   "cell_type": "markdown",
   "metadata": {
    "id": "8Gc3B_oIm-Qx"
   },
   "source": [
    "# Optimizers & Stochastic Gradient Descent\n",
    "\n",
    "If loss functions describe what problem must be solved, the optimizer describes how to solve it. In a neural network, the optimizer adjusts the neural unit weights to minimize loss.\n",
    "\n",
    "**Virtually all optimizers in deep learning belong to a family of algorithms called _Stochastic Gradient Descent_ (SGD)**. _Stochastic_ means determined by chance, as the batches of training data are determined by random selection. A _gradient_ is a directional vector indicating the slope of the loss curve in neural weight space, and _descent_ indicates the optimizer is looking for a minimum loss in that space.\n",
    "\n",
    "SGD training steps go like this:\n",
    "\n",
    "1. Sample some training data (i.e., a _minibatch_, or just _batch_) and run it through the network to make predictions.\n",
    "2. Measure the loss between the predictions and the true values.\n",
    "3. Finally, adjust the weights in a direction that makes the loss smaller.\n",
    "4. Repeat!\n",
    "\n",
    "This algorithm is repeated until the loss is sufficiently small, or will not meaningfully decrease any further.\n",
    "\n",
    "Once all the training data has been passed through SGD training steps broken up into batches, it is said that an _epoch_ has passed. The number of epochs in training equals the number of times the neural network will see each training example.\n",
    "\n",
    "After defining a model, you can add a loss function and optimizer with the model's `compile` method:"
   ]
  },
  {
   "cell_type": "code",
   "execution_count": 15,
   "metadata": {
    "id": "JC5ZYn4FEMjN"
   },
   "outputs": [],
   "source": [
    "model.compile(\n",
    "    optimizer=\"adam\",\n",
    "    loss=\"mae\",\n",
    ")"
   ]
  },
  {
   "cell_type": "markdown",
   "metadata": {
    "id": "lFt3VhNf-vr9"
   },
   "source": [
    "## Learning Rate\n",
    "\n",
    "Each batch leads to a small shift along the gradient towards decreased loss. The size of this shift is called the _learning rate_. A smaller learning rate means the network needs to see more minibatches before it's weights converge on their optimal values. The learning rate along with the batch size (see below) are the hyperparameters with the most impact on how SGD training proceeds. Their interaction is subtle and the correct choice is not always obvious. Fortunately, for most work an extensive hyperparameter search will not be necessary to get satisfactory results."
   ]
  },
  {
   "cell_type": "markdown",
   "metadata": {
    "id": "9B4_XBid-yb2"
   },
   "source": [
    "## Batch Size\n",
    "\n",
    "The number of samples passed per training round, each used to update the weights in a neural network in the direction of the gradient of the loss function in terms or its weights. The size of the batch affects how quickly the model is trained, as well as how noisy the loss curve is.\n",
    "\n",
    "Use the following animation tool to explore the relationship between learning rate & batch size."
   ]
  },
  {
   "cell_type": "code",
   "execution_count": 23,
   "metadata": {
    "colab": {
     "base_uri": "https://localhost:8080/",
     "height": 321
    },
    "executionInfo": {
     "elapsed": 12159,
     "status": "ok",
     "timestamp": 1710200978956,
     "user": {
      "displayName": "Kirkwood Donavin",
      "userId": "13583733505128294183"
     },
     "user_tz": 360
    },
    "id": "L5knQYfvnq9B",
    "outputId": "fa46540e-ae7d-411b-d943-99d46d1691fc"
   },
   "outputs": [],
   "source": [
    "learning_rate = 0.05\n",
    "batch_size = 32\n",
    "num_examples = 256\n",
    "\n",
    "# animate_sgd(\n",
    "#     learning_rate=learning_rate,\n",
    "#     batch_size=batch_size,\n",
    "#     num_examples=num_examples,\n",
    "#     # You can also change these, if you like\n",
    "#     steps=50, # total training steps (batches seen)\n",
    "#     true_w=3.0, # the slope of the data\n",
    "#     true_b=2.0, # the bias of the data\n",
    "# )"
   ]
  },
  {
   "cell_type": "markdown",
   "metadata": {
    "id": "nt9JhKsDG9mt"
   },
   "source": [
    "## Adam the SGD Algorithm\n",
    "\n",
    "Meet _Adam_. Adam has an _adaptive_ learning rate that makes it suitable for most problems without any parameter tuning (i.e., it is self-tuning). This makes Adam a great general-purpose optimizer.\n",
    "\n",
    "Below is an example using Adam SGD."
   ]
  },
  {
   "cell_type": "code",
   "execution_count": 26,
   "metadata": {
    "collapsed": true,
    "editable": true,
    "id": "NjQONqBQeLtz",
    "jupyter": {
     "outputs_hidden": true
    },
    "scrolled": true,
    "slideshow": {
     "slide_type": ""
    },
    "tags": []
   },
   "outputs": [
    {
     "name": "stdout",
     "output_type": "stream",
     "text": [
      "Epoch 1/100\n",
      "\u001b[1m5/5\u001b[0m \u001b[32m━━━━━━━━━━━━━━━━━━━━\u001b[0m\u001b[37m\u001b[0m \u001b[1m0s\u001b[0m 16ms/step - loss: 0.3328 - val_loss: 0.1393\n",
      "Epoch 2/100\n",
      "\u001b[1m5/5\u001b[0m \u001b[32m━━━━━━━━━━━━━━━━━━━━\u001b[0m\u001b[37m\u001b[0m \u001b[1m0s\u001b[0m 7ms/step - loss: 0.1366 - val_loss: 0.1211\n",
      "Epoch 3/100\n",
      "\u001b[1m5/5\u001b[0m \u001b[32m━━━━━━━━━━━━━━━━━━━━\u001b[0m\u001b[37m\u001b[0m \u001b[1m0s\u001b[0m 7ms/step - loss: 0.1223 - val_loss: 0.1131\n",
      "Epoch 4/100\n",
      "\u001b[1m5/5\u001b[0m \u001b[32m━━━━━━━━━━━━━━━━━━━━\u001b[0m\u001b[37m\u001b[0m \u001b[1m0s\u001b[0m 8ms/step - loss: 0.1159 - val_loss: 0.1070\n",
      "Epoch 5/100\n",
      "\u001b[1m5/5\u001b[0m \u001b[32m━━━━━━━━━━━━━━━━━━━━\u001b[0m\u001b[37m\u001b[0m \u001b[1m0s\u001b[0m 7ms/step - loss: 0.1117 - val_loss: 0.1066\n",
      "Epoch 6/100\n",
      "\u001b[1m5/5\u001b[0m \u001b[32m━━━━━━━━━━━━━━━━━━━━\u001b[0m\u001b[37m\u001b[0m \u001b[1m0s\u001b[0m 7ms/step - loss: 0.1061 - val_loss: 0.1027\n",
      "Epoch 7/100\n",
      "\u001b[1m5/5\u001b[0m \u001b[32m━━━━━━━━━━━━━━━━━━━━\u001b[0m\u001b[37m\u001b[0m \u001b[1m0s\u001b[0m 8ms/step - loss: 0.1050 - val_loss: 0.1037\n",
      "Epoch 8/100\n",
      "\u001b[1m5/5\u001b[0m \u001b[32m━━━━━━━━━━━━━━━━━━━━\u001b[0m\u001b[37m\u001b[0m \u001b[1m0s\u001b[0m 7ms/step - loss: 0.1050 - val_loss: 0.1151\n",
      "Epoch 9/100\n",
      "\u001b[1m5/5\u001b[0m \u001b[32m━━━━━━━━━━━━━━━━━━━━\u001b[0m\u001b[37m\u001b[0m \u001b[1m0s\u001b[0m 7ms/step - loss: 0.1079 - val_loss: 0.0987\n",
      "Epoch 10/100\n",
      "\u001b[1m5/5\u001b[0m \u001b[32m━━━━━━━━━━━━━━━━━━━━\u001b[0m\u001b[37m\u001b[0m \u001b[1m0s\u001b[0m 7ms/step - loss: 0.1016 - val_loss: 0.0988\n",
      "Epoch 11/100\n",
      "\u001b[1m5/5\u001b[0m \u001b[32m━━━━━━━━━━━━━━━━━━━━\u001b[0m\u001b[37m\u001b[0m \u001b[1m0s\u001b[0m 8ms/step - loss: 0.0996 - val_loss: 0.1026\n",
      "Epoch 12/100\n",
      "\u001b[1m5/5\u001b[0m \u001b[32m━━━━━━━━━━━━━━━━━━━━\u001b[0m\u001b[37m\u001b[0m \u001b[1m0s\u001b[0m 8ms/step - loss: 0.0984 - val_loss: 0.0994\n",
      "Epoch 13/100\n",
      "\u001b[1m5/5\u001b[0m \u001b[32m━━━━━━━━━━━━━━━━━━━━\u001b[0m\u001b[37m\u001b[0m \u001b[1m0s\u001b[0m 8ms/step - loss: 0.0953 - val_loss: 0.1026\n",
      "Epoch 14/100\n",
      "\u001b[1m5/5\u001b[0m \u001b[32m━━━━━━━━━━━━━━━━━━━━\u001b[0m\u001b[37m\u001b[0m \u001b[1m0s\u001b[0m 7ms/step - loss: 0.0941 - val_loss: 0.1004\n",
      "Epoch 15/100\n",
      "\u001b[1m5/5\u001b[0m \u001b[32m━━━━━━━━━━━━━━━━━━━━\u001b[0m\u001b[37m\u001b[0m \u001b[1m0s\u001b[0m 7ms/step - loss: 0.1007 - val_loss: 0.0971\n",
      "Epoch 16/100\n",
      "\u001b[1m5/5\u001b[0m \u001b[32m━━━━━━━━━━━━━━━━━━━━\u001b[0m\u001b[37m\u001b[0m \u001b[1m0s\u001b[0m 7ms/step - loss: 0.0938 - val_loss: 0.1157\n",
      "Epoch 17/100\n",
      "\u001b[1m5/5\u001b[0m \u001b[32m━━━━━━━━━━━━━━━━━━━━\u001b[0m\u001b[37m\u001b[0m \u001b[1m0s\u001b[0m 8ms/step - loss: 0.1005 - val_loss: 0.0965\n",
      "Epoch 18/100\n",
      "\u001b[1m5/5\u001b[0m \u001b[32m━━━━━━━━━━━━━━━━━━━━\u001b[0m\u001b[37m\u001b[0m \u001b[1m0s\u001b[0m 7ms/step - loss: 0.0963 - val_loss: 0.0969\n",
      "Epoch 19/100\n",
      "\u001b[1m5/5\u001b[0m \u001b[32m━━━━━━━━━━━━━━━━━━━━\u001b[0m\u001b[37m\u001b[0m \u001b[1m0s\u001b[0m 8ms/step - loss: 0.0941 - val_loss: 0.1015\n",
      "Epoch 20/100\n",
      "\u001b[1m5/5\u001b[0m \u001b[32m━━━━━━━━━━━━━━━━━━━━\u001b[0m\u001b[37m\u001b[0m \u001b[1m0s\u001b[0m 8ms/step - loss: 0.0926 - val_loss: 0.0990\n",
      "Epoch 21/100\n",
      "\u001b[1m5/5\u001b[0m \u001b[32m━━━━━━━━━━━━━━━━━━━━\u001b[0m\u001b[37m\u001b[0m \u001b[1m0s\u001b[0m 8ms/step - loss: 0.0937 - val_loss: 0.0960\n",
      "Epoch 22/100\n",
      "\u001b[1m5/5\u001b[0m \u001b[32m━━━━━━━━━━━━━━━━━━━━\u001b[0m\u001b[37m\u001b[0m \u001b[1m0s\u001b[0m 8ms/step - loss: 0.0881 - val_loss: 0.0967\n",
      "Epoch 23/100\n",
      "\u001b[1m5/5\u001b[0m \u001b[32m━━━━━━━━━━━━━━━━━━━━\u001b[0m\u001b[37m\u001b[0m \u001b[1m0s\u001b[0m 8ms/step - loss: 0.0915 - val_loss: 0.0940\n",
      "Epoch 24/100\n",
      "\u001b[1m5/5\u001b[0m \u001b[32m━━━━━━━━━━━━━━━━━━━━\u001b[0m\u001b[37m\u001b[0m \u001b[1m0s\u001b[0m 7ms/step - loss: 0.0916 - val_loss: 0.0969\n",
      "Epoch 25/100\n",
      "\u001b[1m5/5\u001b[0m \u001b[32m━━━━━━━━━━━━━━━━━━━━\u001b[0m\u001b[37m\u001b[0m \u001b[1m0s\u001b[0m 9ms/step - loss: 0.0915 - val_loss: 0.0947\n",
      "Epoch 26/100\n",
      "\u001b[1m5/5\u001b[0m \u001b[32m━━━━━━━━━━━━━━━━━━━━\u001b[0m\u001b[37m\u001b[0m \u001b[1m0s\u001b[0m 8ms/step - loss: 0.0894 - val_loss: 0.0943\n",
      "Epoch 27/100\n",
      "\u001b[1m5/5\u001b[0m \u001b[32m━━━━━━━━━━━━━━━━━━━━\u001b[0m\u001b[37m\u001b[0m \u001b[1m0s\u001b[0m 9ms/step - loss: 0.0902 - val_loss: 0.0938\n",
      "Epoch 28/100\n",
      "\u001b[1m5/5\u001b[0m \u001b[32m━━━━━━━━━━━━━━━━━━━━\u001b[0m\u001b[37m\u001b[0m \u001b[1m0s\u001b[0m 7ms/step - loss: 0.0871 - val_loss: 0.0950\n",
      "Epoch 29/100\n",
      "\u001b[1m5/5\u001b[0m \u001b[32m━━━━━━━━━━━━━━━━━━━━\u001b[0m\u001b[37m\u001b[0m \u001b[1m0s\u001b[0m 7ms/step - loss: 0.0914 - val_loss: 0.0991\n",
      "Epoch 30/100\n",
      "\u001b[1m5/5\u001b[0m \u001b[32m━━━━━━━━━━━━━━━━━━━━\u001b[0m\u001b[37m\u001b[0m \u001b[1m0s\u001b[0m 7ms/step - loss: 0.0882 - val_loss: 0.1013\n",
      "Epoch 31/100\n",
      "\u001b[1m5/5\u001b[0m \u001b[32m━━━━━━━━━━━━━━━━━━━━\u001b[0m\u001b[37m\u001b[0m \u001b[1m0s\u001b[0m 7ms/step - loss: 0.0896 - val_loss: 0.1067\n",
      "Epoch 32/100\n",
      "\u001b[1m5/5\u001b[0m \u001b[32m━━━━━━━━━━━━━━━━━━━━\u001b[0m\u001b[37m\u001b[0m \u001b[1m0s\u001b[0m 7ms/step - loss: 0.0868 - val_loss: 0.1008\n",
      "Epoch 33/100\n",
      "\u001b[1m5/5\u001b[0m \u001b[32m━━━━━━━━━━━━━━━━━━━━\u001b[0m\u001b[37m\u001b[0m \u001b[1m0s\u001b[0m 7ms/step - loss: 0.0855 - val_loss: 0.0985\n",
      "Epoch 34/100\n",
      "\u001b[1m5/5\u001b[0m \u001b[32m━━━━━━━━━━━━━━━━━━━━\u001b[0m\u001b[37m\u001b[0m \u001b[1m0s\u001b[0m 7ms/step - loss: 0.0873 - val_loss: 0.0972\n",
      "Epoch 35/100\n",
      "\u001b[1m5/5\u001b[0m \u001b[32m━━━━━━━━━━━━━━━━━━━━\u001b[0m\u001b[37m\u001b[0m \u001b[1m0s\u001b[0m 7ms/step - loss: 0.0876 - val_loss: 0.0931\n",
      "Epoch 36/100\n",
      "\u001b[1m5/5\u001b[0m \u001b[32m━━━━━━━━━━━━━━━━━━━━\u001b[0m\u001b[37m\u001b[0m \u001b[1m0s\u001b[0m 7ms/step - loss: 0.0850 - val_loss: 0.0931\n",
      "Epoch 37/100\n",
      "\u001b[1m5/5\u001b[0m \u001b[32m━━━━━━━━━━━━━━━━━━━━\u001b[0m\u001b[37m\u001b[0m \u001b[1m0s\u001b[0m 7ms/step - loss: 0.0834 - val_loss: 0.0934\n",
      "Epoch 38/100\n",
      "\u001b[1m5/5\u001b[0m \u001b[32m━━━━━━━━━━━━━━━━━━━━\u001b[0m\u001b[37m\u001b[0m \u001b[1m0s\u001b[0m 7ms/step - loss: 0.0848 - val_loss: 0.0923\n",
      "Epoch 39/100\n",
      "\u001b[1m5/5\u001b[0m \u001b[32m━━━━━━━━━━━━━━━━━━━━\u001b[0m\u001b[37m\u001b[0m \u001b[1m0s\u001b[0m 7ms/step - loss: 0.0809 - val_loss: 0.0931\n",
      "Epoch 40/100\n",
      "\u001b[1m5/5\u001b[0m \u001b[32m━━━━━━━━━━━━━━━━━━━━\u001b[0m\u001b[37m\u001b[0m \u001b[1m0s\u001b[0m 8ms/step - loss: 0.0818 - val_loss: 0.0930\n",
      "Epoch 41/100\n",
      "\u001b[1m5/5\u001b[0m \u001b[32m━━━━━━━━━━━━━━━━━━━━\u001b[0m\u001b[37m\u001b[0m \u001b[1m0s\u001b[0m 7ms/step - loss: 0.0829 - val_loss: 0.1036\n",
      "Epoch 42/100\n",
      "\u001b[1m5/5\u001b[0m \u001b[32m━━━━━━━━━━━━━━━━━━━━\u001b[0m\u001b[37m\u001b[0m \u001b[1m0s\u001b[0m 7ms/step - loss: 0.0928 - val_loss: 0.0954\n",
      "Epoch 43/100\n",
      "\u001b[1m5/5\u001b[0m \u001b[32m━━━━━━━━━━━━━━━━━━━━\u001b[0m\u001b[37m\u001b[0m \u001b[1m0s\u001b[0m 7ms/step - loss: 0.0874 - val_loss: 0.0929\n",
      "Epoch 44/100\n",
      "\u001b[1m5/5\u001b[0m \u001b[32m━━━━━━━━━━━━━━━━━━━━\u001b[0m\u001b[37m\u001b[0m \u001b[1m0s\u001b[0m 7ms/step - loss: 0.0795 - val_loss: 0.0946\n",
      "Epoch 45/100\n",
      "\u001b[1m5/5\u001b[0m \u001b[32m━━━━━━━━━━━━━━━━━━━━\u001b[0m\u001b[37m\u001b[0m \u001b[1m0s\u001b[0m 7ms/step - loss: 0.0789 - val_loss: 0.0927\n",
      "Epoch 46/100\n",
      "\u001b[1m5/5\u001b[0m \u001b[32m━━━━━━━━━━━━━━━━━━━━\u001b[0m\u001b[37m\u001b[0m \u001b[1m0s\u001b[0m 7ms/step - loss: 0.0805 - val_loss: 0.0930\n",
      "Epoch 47/100\n",
      "\u001b[1m5/5\u001b[0m \u001b[32m━━━━━━━━━━━━━━━━━━━━\u001b[0m\u001b[37m\u001b[0m \u001b[1m0s\u001b[0m 7ms/step - loss: 0.0786 - val_loss: 0.0917\n",
      "Epoch 48/100\n",
      "\u001b[1m5/5\u001b[0m \u001b[32m━━━━━━━━━━━━━━━━━━━━\u001b[0m\u001b[37m\u001b[0m \u001b[1m0s\u001b[0m 15ms/step - loss: 0.0787 - val_loss: 0.0944\n",
      "Epoch 49/100\n",
      "\u001b[1m5/5\u001b[0m \u001b[32m━━━━━━━━━━━━━━━━━━━━\u001b[0m\u001b[37m\u001b[0m \u001b[1m0s\u001b[0m 7ms/step - loss: 0.0783 - val_loss: 0.0965\n",
      "Epoch 50/100\n",
      "\u001b[1m5/5\u001b[0m \u001b[32m━━━━━━━━━━━━━━━━━━━━\u001b[0m\u001b[37m\u001b[0m \u001b[1m0s\u001b[0m 7ms/step - loss: 0.0772 - val_loss: 0.1001\n",
      "Epoch 51/100\n",
      "\u001b[1m5/5\u001b[0m \u001b[32m━━━━━━━━━━━━━━━━━━━━\u001b[0m\u001b[37m\u001b[0m \u001b[1m0s\u001b[0m 7ms/step - loss: 0.0812 - val_loss: 0.0994\n",
      "Epoch 52/100\n",
      "\u001b[1m5/5\u001b[0m \u001b[32m━━━━━━━━━━━━━━━━━━━━\u001b[0m\u001b[37m\u001b[0m \u001b[1m0s\u001b[0m 7ms/step - loss: 0.0790 - val_loss: 0.1055\n",
      "Epoch 53/100\n",
      "\u001b[1m5/5\u001b[0m \u001b[32m━━━━━━━━━━━━━━━━━━━━\u001b[0m\u001b[37m\u001b[0m \u001b[1m0s\u001b[0m 7ms/step - loss: 0.0861 - val_loss: 0.0973\n",
      "Epoch 54/100\n",
      "\u001b[1m5/5\u001b[0m \u001b[32m━━━━━━━━━━━━━━━━━━━━\u001b[0m\u001b[37m\u001b[0m \u001b[1m0s\u001b[0m 7ms/step - loss: 0.0780 - val_loss: 0.0945\n",
      "Epoch 55/100\n",
      "\u001b[1m5/5\u001b[0m \u001b[32m━━━━━━━━━━━━━━━━━━━━\u001b[0m\u001b[37m\u001b[0m \u001b[1m0s\u001b[0m 8ms/step - loss: 0.0805 - val_loss: 0.0955\n",
      "Epoch 56/100\n",
      "\u001b[1m5/5\u001b[0m \u001b[32m━━━━━━━━━━━━━━━━━━━━\u001b[0m\u001b[37m\u001b[0m \u001b[1m0s\u001b[0m 8ms/step - loss: 0.0758 - val_loss: 0.0941\n",
      "Epoch 57/100\n",
      "\u001b[1m5/5\u001b[0m \u001b[32m━━━━━━━━━━━━━━━━━━━━\u001b[0m\u001b[37m\u001b[0m \u001b[1m0s\u001b[0m 7ms/step - loss: 0.0780 - val_loss: 0.0951\n",
      "Epoch 58/100\n",
      "\u001b[1m5/5\u001b[0m \u001b[32m━━━━━━━━━━━━━━━━━━━━\u001b[0m\u001b[37m\u001b[0m \u001b[1m0s\u001b[0m 7ms/step - loss: 0.0791 - val_loss: 0.0953\n",
      "Epoch 59/100\n",
      "\u001b[1m5/5\u001b[0m \u001b[32m━━━━━━━━━━━━━━━━━━━━\u001b[0m\u001b[37m\u001b[0m \u001b[1m0s\u001b[0m 7ms/step - loss: 0.0800 - val_loss: 0.0923\n",
      "Epoch 60/100\n",
      "\u001b[1m5/5\u001b[0m \u001b[32m━━━━━━━━━━━━━━━━━━━━\u001b[0m\u001b[37m\u001b[0m \u001b[1m0s\u001b[0m 8ms/step - loss: 0.0768 - val_loss: 0.0948\n",
      "Epoch 61/100\n",
      "\u001b[1m5/5\u001b[0m \u001b[32m━━━━━━━━━━━━━━━━━━━━\u001b[0m\u001b[37m\u001b[0m \u001b[1m0s\u001b[0m 8ms/step - loss: 0.0748 - val_loss: 0.0973\n",
      "Epoch 62/100\n",
      "\u001b[1m5/5\u001b[0m \u001b[32m━━━━━━━━━━━━━━━━━━━━\u001b[0m\u001b[37m\u001b[0m \u001b[1m0s\u001b[0m 7ms/step - loss: 0.0744 - val_loss: 0.1014\n",
      "Epoch 63/100\n",
      "\u001b[1m5/5\u001b[0m \u001b[32m━━━━━━━━━━━━━━━━━━━━\u001b[0m\u001b[37m\u001b[0m \u001b[1m0s\u001b[0m 7ms/step - loss: 0.0772 - val_loss: 0.0960\n",
      "Epoch 64/100\n",
      "\u001b[1m5/5\u001b[0m \u001b[32m━━━━━━━━━━━━━━━━━━━━\u001b[0m\u001b[37m\u001b[0m \u001b[1m0s\u001b[0m 8ms/step - loss: 0.0740 - val_loss: 0.0960\n",
      "Epoch 65/100\n",
      "\u001b[1m5/5\u001b[0m \u001b[32m━━━━━━━━━━━━━━━━━━━━\u001b[0m\u001b[37m\u001b[0m \u001b[1m0s\u001b[0m 9ms/step - loss: 0.0750 - val_loss: 0.0911\n",
      "Epoch 66/100\n",
      "\u001b[1m5/5\u001b[0m \u001b[32m━━━━━━━━━━━━━━━━━━━━\u001b[0m\u001b[37m\u001b[0m \u001b[1m0s\u001b[0m 8ms/step - loss: 0.0738 - val_loss: 0.0927\n",
      "Epoch 67/100\n",
      "\u001b[1m5/5\u001b[0m \u001b[32m━━━━━━━━━━━━━━━━━━━━\u001b[0m\u001b[37m\u001b[0m \u001b[1m0s\u001b[0m 7ms/step - loss: 0.0720 - val_loss: 0.0929\n",
      "Epoch 68/100\n",
      "\u001b[1m5/5\u001b[0m \u001b[32m━━━━━━━━━━━━━━━━━━━━\u001b[0m\u001b[37m\u001b[0m \u001b[1m0s\u001b[0m 8ms/step - loss: 0.0701 - val_loss: 0.0927\n",
      "Epoch 69/100\n",
      "\u001b[1m5/5\u001b[0m \u001b[32m━━━━━━━━━━━━━━━━━━━━\u001b[0m\u001b[37m\u001b[0m \u001b[1m0s\u001b[0m 8ms/step - loss: 0.0773 - val_loss: 0.0957\n",
      "Epoch 70/100\n",
      "\u001b[1m5/5\u001b[0m \u001b[32m━━━━━━━━━━━━━━━━━━━━\u001b[0m\u001b[37m\u001b[0m \u001b[1m0s\u001b[0m 7ms/step - loss: 0.0768 - val_loss: 0.0944\n",
      "Epoch 71/100\n",
      "\u001b[1m5/5\u001b[0m \u001b[32m━━━━━━━━━━━━━━━━━━━━\u001b[0m\u001b[37m\u001b[0m \u001b[1m0s\u001b[0m 8ms/step - loss: 0.0735 - val_loss: 0.0977\n",
      "Epoch 72/100\n",
      "\u001b[1m5/5\u001b[0m \u001b[32m━━━━━━━━━━━━━━━━━━━━\u001b[0m\u001b[37m\u001b[0m \u001b[1m0s\u001b[0m 8ms/step - loss: 0.0724 - val_loss: 0.1060\n",
      "Epoch 73/100\n",
      "\u001b[1m5/5\u001b[0m \u001b[32m━━━━━━━━━━━━━━━━━━━━\u001b[0m\u001b[37m\u001b[0m \u001b[1m0s\u001b[0m 8ms/step - loss: 0.0738 - val_loss: 0.1018\n",
      "Epoch 74/100\n",
      "\u001b[1m5/5\u001b[0m \u001b[32m━━━━━━━━━━━━━━━━━━━━\u001b[0m\u001b[37m\u001b[0m \u001b[1m0s\u001b[0m 8ms/step - loss: 0.0764 - val_loss: 0.1129\n",
      "Epoch 75/100\n",
      "\u001b[1m5/5\u001b[0m \u001b[32m━━━━━━━━━━━━━━━━━━━━\u001b[0m\u001b[37m\u001b[0m \u001b[1m0s\u001b[0m 7ms/step - loss: 0.0831 - val_loss: 0.1026\n",
      "Epoch 76/100\n",
      "\u001b[1m5/5\u001b[0m \u001b[32m━━━━━━━━━━━━━━━━━━━━\u001b[0m\u001b[37m\u001b[0m \u001b[1m0s\u001b[0m 8ms/step - loss: 0.0784 - val_loss: 0.1027\n",
      "Epoch 77/100\n",
      "\u001b[1m5/5\u001b[0m \u001b[32m━━━━━━━━━━━━━━━━━━━━\u001b[0m\u001b[37m\u001b[0m \u001b[1m0s\u001b[0m 7ms/step - loss: 0.0771 - val_loss: 0.0964\n",
      "Epoch 78/100\n",
      "\u001b[1m5/5\u001b[0m \u001b[32m━━━━━━━━━━━━━━━━━━━━\u001b[0m\u001b[37m\u001b[0m \u001b[1m0s\u001b[0m 9ms/step - loss: 0.0742 - val_loss: 0.0931\n",
      "Epoch 79/100\n",
      "\u001b[1m5/5\u001b[0m \u001b[32m━━━━━━━━━━━━━━━━━━━━\u001b[0m\u001b[37m\u001b[0m \u001b[1m0s\u001b[0m 7ms/step - loss: 0.0707 - val_loss: 0.0934\n",
      "Epoch 80/100\n",
      "\u001b[1m5/5\u001b[0m \u001b[32m━━━━━━━━━━━━━━━━━━━━\u001b[0m\u001b[37m\u001b[0m \u001b[1m0s\u001b[0m 17ms/step - loss: 0.0683 - val_loss: 0.0933\n",
      "Epoch 81/100\n",
      "\u001b[1m5/5\u001b[0m \u001b[32m━━━━━━━━━━━━━━━━━━━━\u001b[0m\u001b[37m\u001b[0m \u001b[1m0s\u001b[0m 8ms/step - loss: 0.0690 - val_loss: 0.0974\n",
      "Epoch 82/100\n",
      "\u001b[1m5/5\u001b[0m \u001b[32m━━━━━━━━━━━━━━━━━━━━\u001b[0m\u001b[37m\u001b[0m \u001b[1m0s\u001b[0m 8ms/step - loss: 0.0697 - val_loss: 0.0938\n",
      "Epoch 83/100\n",
      "\u001b[1m5/5\u001b[0m \u001b[32m━━━━━━━━━━━━━━━━━━━━\u001b[0m\u001b[37m\u001b[0m \u001b[1m0s\u001b[0m 7ms/step - loss: 0.0674 - val_loss: 0.0953\n",
      "Epoch 84/100\n",
      "\u001b[1m5/5\u001b[0m \u001b[32m━━━━━━━━━━━━━━━━━━━━\u001b[0m\u001b[37m\u001b[0m \u001b[1m0s\u001b[0m 8ms/step - loss: 0.0706 - val_loss: 0.0932\n",
      "Epoch 85/100\n",
      "\u001b[1m5/5\u001b[0m \u001b[32m━━━━━━━━━━━━━━━━━━━━\u001b[0m\u001b[37m\u001b[0m \u001b[1m0s\u001b[0m 7ms/step - loss: 0.0691 - val_loss: 0.0952\n",
      "Epoch 86/100\n",
      "\u001b[1m5/5\u001b[0m \u001b[32m━━━━━━━━━━━━━━━━━━━━\u001b[0m\u001b[37m\u001b[0m \u001b[1m0s\u001b[0m 7ms/step - loss: 0.0681 - val_loss: 0.0946\n",
      "Epoch 87/100\n",
      "\u001b[1m5/5\u001b[0m \u001b[32m━━━━━━━━━━━━━━━━━━━━\u001b[0m\u001b[37m\u001b[0m \u001b[1m0s\u001b[0m 8ms/step - loss: 0.0645 - val_loss: 0.0927\n",
      "Epoch 88/100\n",
      "\u001b[1m5/5\u001b[0m \u001b[32m━━━━━━━━━━━━━━━━━━━━\u001b[0m\u001b[37m\u001b[0m \u001b[1m0s\u001b[0m 7ms/step - loss: 0.0656 - val_loss: 0.0972\n",
      "Epoch 89/100\n",
      "\u001b[1m5/5\u001b[0m \u001b[32m━━━━━━━━━━━━━━━━━━━━\u001b[0m\u001b[37m\u001b[0m \u001b[1m0s\u001b[0m 8ms/step - loss: 0.0705 - val_loss: 0.0938\n",
      "Epoch 90/100\n",
      "\u001b[1m5/5\u001b[0m \u001b[32m━━━━━━━━━━━━━━━━━━━━\u001b[0m\u001b[37m\u001b[0m \u001b[1m0s\u001b[0m 8ms/step - loss: 0.0689 - val_loss: 0.0943\n",
      "Epoch 91/100\n",
      "\u001b[1m5/5\u001b[0m \u001b[32m━━━━━━━━━━━━━━━━━━━━\u001b[0m\u001b[37m\u001b[0m \u001b[1m0s\u001b[0m 7ms/step - loss: 0.0663 - val_loss: 0.0942\n",
      "Epoch 92/100\n",
      "\u001b[1m5/5\u001b[0m \u001b[32m━━━━━━━━━━━━━━━━━━━━\u001b[0m\u001b[37m\u001b[0m \u001b[1m0s\u001b[0m 7ms/step - loss: 0.0640 - val_loss: 0.0943\n",
      "Epoch 93/100\n",
      "\u001b[1m5/5\u001b[0m \u001b[32m━━━━━━━━━━━━━━━━━━━━\u001b[0m\u001b[37m\u001b[0m \u001b[1m0s\u001b[0m 8ms/step - loss: 0.0657 - val_loss: 0.0929\n",
      "Epoch 94/100\n",
      "\u001b[1m5/5\u001b[0m \u001b[32m━━━━━━━━━━━━━━━━━━━━\u001b[0m\u001b[37m\u001b[0m \u001b[1m0s\u001b[0m 10ms/step - loss: 0.0642 - val_loss: 0.0977\n",
      "Epoch 95/100\n",
      "\u001b[1m5/5\u001b[0m \u001b[32m━━━━━━━━━━━━━━━━━━━━\u001b[0m\u001b[37m\u001b[0m \u001b[1m0s\u001b[0m 8ms/step - loss: 0.0661 - val_loss: 0.0920\n",
      "Epoch 96/100\n",
      "\u001b[1m5/5\u001b[0m \u001b[32m━━━━━━━━━━━━━━━━━━━━\u001b[0m\u001b[37m\u001b[0m \u001b[1m0s\u001b[0m 8ms/step - loss: 0.0647 - val_loss: 0.0972\n",
      "Epoch 97/100\n",
      "\u001b[1m5/5\u001b[0m \u001b[32m━━━━━━━━━━━━━━━━━━━━\u001b[0m\u001b[37m\u001b[0m \u001b[1m0s\u001b[0m 8ms/step - loss: 0.0651 - val_loss: 0.0924\n",
      "Epoch 98/100\n",
      "\u001b[1m5/5\u001b[0m \u001b[32m━━━━━━━━━━━━━━━━━━━━\u001b[0m\u001b[37m\u001b[0m \u001b[1m0s\u001b[0m 8ms/step - loss: 0.0649 - val_loss: 0.0956\n",
      "Epoch 99/100\n",
      "\u001b[1m5/5\u001b[0m \u001b[32m━━━━━━━━━━━━━━━━━━━━\u001b[0m\u001b[37m\u001b[0m \u001b[1m0s\u001b[0m 7ms/step - loss: 0.0631 - val_loss: 0.0942\n",
      "Epoch 100/100\n",
      "\u001b[1m5/5\u001b[0m \u001b[32m━━━━━━━━━━━━━━━━━━━━\u001b[0m\u001b[37m\u001b[0m \u001b[1m0s\u001b[0m 8ms/step - loss: 0.0616 - val_loss: 0.1062\n"
     ]
    }
   ],
   "source": [
    "# Wine Quality Prediction\n",
    "from tensorflow import keras\n",
    "from tensorflow.keras import layers\n",
    "\n",
    "## Model Setup\n",
    "model = keras.Sequential([\n",
    "    Input(shape=[11])\n",
    "    , layers.Dense(512, activation='relu')\n",
    "    , layers.Dense(512, activation='relu')\n",
    "    , layers.Dense(512, activation='relu')\n",
    "    , layers.Dense(1)\n",
    "])\n",
    "model.compile(\n",
    "    optimizer='adam',\n",
    "    loss='mae',\n",
    ")\n",
    "\n",
    "## Fitting\n",
    "X_train = wine_train.drop('quality', axis=1)\n",
    "y_train = wine_train['quality']\n",
    "X_valid = wine_valid.drop('quality', axis=1)\n",
    "y_valid = wine_valid['quality']\n",
    "\n",
    "history = model.fit(\n",
    "    X_train, y_train,\n",
    "    validation_data=(X_valid, y_valid),\n",
    "    batch_size=256,\n",
    "    epochs=100,\n",
    ")"
   ]
  },
  {
   "cell_type": "markdown",
   "metadata": {
    "id": "4lXTBo0piXvR"
   },
   "source": [
    "We can view the decrease in loss across epochs on a graph:"
   ]
  },
  {
   "cell_type": "code",
   "execution_count": 27,
   "metadata": {
    "colab": {
     "base_uri": "https://localhost:8080/",
     "height": 472
    },
    "executionInfo": {
     "elapsed": 708,
     "status": "ok",
     "timestamp": 1709590895521,
     "user": {
      "displayName": "Kirkwood Donavin",
      "userId": "13583733505128294183"
     },
     "user_tz": 420
    },
    "id": "ubMUXjomid0h",
    "outputId": "62cc2893-65e3-49eb-b983-857499dc216b"
   },
   "outputs": [
    {
     "data": {
      "image/png": "[encoded data removed]",
      "text/plain": [
       "<Figure size 640x480 with 1 Axes>"
      ]
     },
     "metadata": {},
     "output_type": "display_data"
    }
   ],
   "source": [
    "import pandas as pd\n",
    "\n",
    "# convert the training history to a dataframe\n",
    "history_df = pd.DataFrame(history.history)\n",
    "# use Pandas native plot method\n",
    "history_df['loss'].plot(title='Mean Avg. Error Across Epochs'\n",
    "    , xlabel='Epoch'\n",
    "    , ylabel='MAE');"
   ]
  },
  {
   "cell_type": "markdown",
   "metadata": {
    "id": "Jcs68IoaAMhK"
   },
   "source": [
    "# Model Fit - The Signal or the Noise?\n",
    "\n",
    "You might think about the information in the training data as being of two kinds: _signal_ and _noise_. The _signal_ is the part that generalizes; the part that can help our model make predictions about new data. The _noise_ is that part that is only true of the training data; the noise is all of the random fluctuation that comes from all of the incidental, non-informative patterns that can't actually help the model make predictions. We want the neural network to identify the signal, and nothing more!\n",
    "\n",
    "This trade-off indicates that there can be two problems that occur when training a model: not enough signal or too much noise. _Underfitting_ the training set is when the loss is not as low as it could be because the model hasn't learned enough signal. _Overfitting_ the training set is when the loss is not as low as it could be because the model learned too much noise. The trick to training deep learning models is finding the best balance between the two.\n",
    "\n",
    "<img src='IMAGES/underfit_overfit.png'>"
   ]
  },
  {
   "cell_type": "markdown",
   "metadata": {
    "id": "3ZIYsyMcBB3t"
   },
   "source": [
    "## Learning Curves\n",
    "\n",
    "During model training, the optimizer adjusts network model weights in order to reduce loss in the training data. This reduction in loss across epochs on a set of data is called a _learning curve_, and specifically a _training learning curve_ for the loss on a training set. However, ultimately the model must peform optimally on _unseen_ data. Hence, another learning curve may be calculated across epochs for an unseen _validation set_. This curve will specifically be called the _validation learning curve_.\n",
    "\n",
    "At first in training, overall loss falls in both the training and validation learning curves from epoch to epoch. During these early epochs the network is _underfit_ and continuing to to learn signal from the training data that enables it to reduce loss in the validation data. However, eventually the neurons will begin to learn noise in the training data. The network will begin to pick up all the idiosyncracies that are unique to the training data but not generalizable to new data. This is called _overfitting_.\n",
    "\n",
    "While the training learning curve will continue to decrease with signal _or_ noise in the training set, the validation learning curve will instead begin to increase in loss as epochs pass.\n",
    "\n",
    "<img src='IMAGES/learning curves.png'>\n",
    "\n",
    "A sign that the network is underfit is if the validation loss never significantly rises regardless of epoch count. Take the following as an example:"
   ]
  },
  {
   "cell_type": "code",
   "execution_count": 31,
   "metadata": {
    "colab": {
     "base_uri": "https://localhost:8080/",
     "height": 447
    },
    "executionInfo": {
     "elapsed": 11512,
     "status": "ok",
     "timestamp": 1711229337568,
     "user": {
      "displayName": "Kirkwood Donavin",
      "userId": "13583733505128294183"
     },
     "user_tz": 360
    },
    "id": "h7ebG8WPGh96",
    "outputId": "4481ad33-a6c9-411e-9c50-0301321556e1"
   },
   "outputs": [
    {
     "name": "stdout",
     "output_type": "stream",
     "text": [
      "Minimum Validation Loss: 0.1998\n"
     ]
    },
    {
     "data": {
      "image/png": "[encoded data removed]",
      "text/plain": [
       "<Figure size 640x480 with 1 Axes>"
      ]
     },
     "metadata": {},
     "output_type": "display_data"
    }
   ],
   "source": [
    "model = keras.Sequential([\n",
    "    Input(shape=[X_train__spot.shape[1]])\n",
    "    , layers.Dense(1)\n",
    "])\n",
    "model.compile(\n",
    "    optimizer='adam',\n",
    "    loss='mae',\n",
    ")\n",
    "history = model.fit(\n",
    "    X_train__spot, y_train__spot,\n",
    "    validation_data=(X_valid__spot, y_valid__spot),\n",
    "    batch_size=512,\n",
    "    epochs=50,\n",
    "    verbose=0, # suppress output since we'll plot the curves\n",
    ")\n",
    "history_df = pd.DataFrame(history.history)\n",
    "history_df.loc[10:, ['loss', 'val_loss']].plot()\n",
    "print(\"Minimum Validation Loss: {:0.4f}\".format(history_df['val_loss'].min()));"
   ]
  },
  {
   "cell_type": "markdown",
   "metadata": {
    "id": "ArYsRY_ZS6PD"
   },
   "source": [
    "## Network Capacity\n",
    "\n",
    "A model's _capacity_ refers to the size and complexity of the patterns it is able to learn. For neural networks, this will largely be determined by how many neurons it has and how they are connected together. If it appears that your network is _underfitting_ the data, you should try increasing its capacity.\n",
    "\n",
    "You can increase the capacity of a network in 2 ways: by making existing layers _wider_, or by making the network _deeper_.\n",
    "\n",
    "- __Layer Width__: number of neural units in a given layer\n",
    "- __Network Depth__: number of neural layers\n",
    "\n",
    "Wider networks have an easier time learning more linear relationships, while deeper networks prefer more nonlinear ones. Which is better just depends on the dataset.\n"
   ]
  },
  {
   "cell_type": "code",
   "execution_count": 32,
   "metadata": {
    "id": "6V_LtI1ZUeSZ"
   },
   "outputs": [],
   "source": [
    "from tensorflow import keras\n",
    "from tensorflow.keras import layers\n",
    "\n",
    "model = keras.Sequential([\n",
    "    layers.Dense(16, activation='relu'),\n",
    "    layers.Dense(1),\n",
    "])\n",
    "\n",
    "wider = keras.Sequential([\n",
    "    layers.Dense(32, activation='relu'),\n",
    "    layers.Dense(1),\n",
    "])\n",
    "\n",
    "deeper = keras.Sequential([\n",
    "    layers.Dense(16, activation='relu'),\n",
    "    layers.Dense(16, activation='relu'),\n",
    "    layers.Dense(1),\n",
    "])"
   ]
  },
  {
   "cell_type": "markdown",
   "metadata": {
    "id": "BoyC_vwuU8tt"
   },
   "source": [
    "## Early Stopping\n",
    "\n",
    "When a model is too eagerly learning noise, the validation loss may start to increase during training. To prevent this, we can simply stop the training whenever it seems the validation loss isn't decreasing anymore. Interrupting the training this way is called _early stopping_.\n",
    "\n",
    "<img src='IMAGES/early stopping.png'>\n",
    "\n",
    "Once we detect that the validation loss is starting to rise again, we can reset the weights back to where the minimum occured. This ensures that the model won't continue to learn noise and overfit the data.\n",
    "\n",
    "Training with early stopping also means that we are in less danger of stopping the training too early, before the network has finished learning signal. So besides preventing overfitting from training too long, early stopping can also prevent underfitting from not training long enough. The training epochs must merely be set to some large number greater than needed, and early stopping will take care of the rest."
   ]
  },
  {
   "cell_type": "code",
   "execution_count": 35,
   "metadata": {
    "colab": {
     "base_uri": "https://localhost:8080/",
     "height": 449
    },
    "executionInfo": {
     "elapsed": 13844,
     "status": "ok",
     "timestamp": 1711525767997,
     "user": {
      "displayName": "Kirkwood Donavin",
      "userId": "13583733505128294183"
     },
     "user_tz": 360
    },
    "id": "fQs38fsiCl5B",
    "outputId": "e69c9238-67ed-47f5-99b3-b1e2a705602b"
   },
   "outputs": [
    {
     "name": "stdout",
     "output_type": "stream",
     "text": [
      "Minimum validation loss: 0.09023018926382065\n"
     ]
    },
    {
     "data": {
      "image/png": "[encoded data removed]",
      "text/plain": [
       "<Figure size 640x480 with 1 Axes>"
      ]
     },
     "metadata": {},
     "output_type": "display_data"
    }
   ],
   "source": [
    "from tensorflow import keras\n",
    "from tensorflow.keras import layers, callbacks\n",
    "\n",
    "#Early stopping callback\n",
    "early_stopping = callbacks.EarlyStopping(\n",
    "    min_delta=0.001, # minimium amount of change to count as an improvement\n",
    "    patience=20, # how many epochs to wait before stopping\n",
    "    restore_best_weights=True,\n",
    ")\n",
    "\n",
    "#Data\n",
    "X_train = wine_train.drop('quality', axis=1)\n",
    "X_valid = wine_valid.drop('quality', axis=1)\n",
    "y_train = wine_train['quality']\n",
    "y_valid = wine_valid['quality']\n",
    "\n",
    "#Model\n",
    "model = keras.Sequential([\n",
    "    Input(shape=[11])\n",
    "    , layers.Dense(512, activation='relu')\n",
    "    , layers.Dense(512, activation='relu')\n",
    "    , layers.Dense(512, activation='relu')\n",
    "    , layers.Dense(1)\n",
    "])\n",
    "model.compile(\n",
    "    optimizer='adam',\n",
    "    loss='mae',\n",
    ")\n",
    "\n",
    "#Fitting\n",
    "history = model.fit(\n",
    "    X_train, y_train\n",
    "    , validation_data=(X_valid, y_valid)\n",
    "    , batch_size=256\n",
    "    , epochs=500 # note that the actual epochs will be well below this\n",
    "    , callbacks=[early_stopping] # put your callbacks in a list\n",
    "    , verbose=0 # turn off training log\n",
    ")\n",
    "\n",
    "history_df = pd.DataFrame(history.history)\n",
    "history_df.loc[:, ['loss', 'val_loss']].plot();\n",
    "print(\"Minimum validation loss: {}\".format(history_df['val_loss'].min()))"
   ]
  },
  {
   "cell_type": "markdown",
   "metadata": {
    "id": "5W4AOphP16oi"
   },
   "source": [
    "## Drop-Out Layers\n",
    "\n",
    "As mentioned above, drop-out layers can reduce overfitting risk by making it more difficult for the network to learn noise in the data. The following is a rehash of the above modelling. However, this time the model is wider, which means it could be more likely to overfit the training data. This is compensated for by the inclusion of [`Dropout`](https://www.tensorflow.org/api_docs/python/tf/keras/layers/Dropout) layers."
   ]
  },
  {
   "cell_type": "code",
   "execution_count": 36,
   "metadata": {
    "colab": {
     "base_uri": "https://localhost:8080/",
     "height": 448
    },
    "executionInfo": {
     "elapsed": 43297,
     "status": "ok",
     "timestamp": 1711526961099,
     "user": {
      "displayName": "Kirkwood Donavin",
      "userId": "13583733505128294183"
     },
     "user_tz": 360
    },
    "id": "iK5lTI4l3KHz",
    "outputId": "44909354-6472-498e-80d3-805932397337"
   },
   "outputs": [
    {
     "name": "stdout",
     "output_type": "stream",
     "text": [
      "Minimum validation loss: 0.09534753859043121\n"
     ]
    },
    {
     "data": {
      "image/png": "[encoded data removed]",
      "text/plain": [
       "<Figure size 640x480 with 1 Axes>"
      ]
     },
     "metadata": {},
     "output_type": "display_data"
    }
   ],
   "source": [
    "from tensorflow import keras\n",
    "from tensorflow.keras import layers\n",
    "\n",
    "model = keras.Sequential([\n",
    "    Input(shape=[11])\n",
    "    , layers.Dense(1024, activation='relu')\n",
    "    , layers.Dropout(0.3)\n",
    "    , layers.Dense(1024, activation='relu')\n",
    "    , layers.Dropout(0.3)\n",
    "    , layers.Dense(1024, activation='relu')\n",
    "    , layers.Dropout(0.3)\n",
    "    , layers.Dense(1)\n",
    "])\n",
    "\n",
    "model.compile(\n",
    "    optimizer='adam',\n",
    "    loss='mae',\n",
    ")\n",
    "\n",
    "history = model.fit(\n",
    "    X_train, y_train\n",
    "    , validation_data=(X_valid, y_valid)\n",
    "    , batch_size=256\n",
    "    , epochs=100\n",
    "    , callbacks=[early_stopping]\n",
    "    , verbose=0\n",
    ")\n",
    "\n",
    "# Show the learning curves\n",
    "history_df = pd.DataFrame(history.history)\n",
    "history_df.loc[:, ['loss', 'val_loss']].plot();\n",
    "print(\"Minimum validation loss: {}\".format(history_df['val_loss'].min()))"
   ]
  },
  {
   "cell_type": "markdown",
   "metadata": {
    "id": "wjF77_JFBRt3"
   },
   "source": [
    "# Callbacks\n",
    "\n",
    "Functions that we want to run every so often during training. `callbacks` are passed to the TF `fit()` method.\n",
    "\n",
    "- `EarlyStopping(<min_delta>, <patience>, <restore_best_weights>)`: Stop training within `patience` epochs if the best loss score has not at least improved by `min_delta`. If `restore_best_weights` is set to `True`, then (as it sounds), the weights from the best epoch are restored to the trained model."
   ]
  },
  {
   "cell_type": "markdown",
   "metadata": {
    "id": "NvMdNPTGf3KX"
   },
   "source": [
    "# Linear Algebra Commands\n",
    "\n",
    "* `add(<tensor1>, <tensor2>)` - Adds tensors of equal dimensions.\n",
    "* `assign(<name>, <operation()>)` - Assign (update) a previously defined and mutable tensor object with a given operation. E.g., `assign(total, add(total, weights)` assigns `total` the sum of itself and `weights`.\n",
    "* `constant` - A constant (immutable) tensor, e.g., `constant(1.0, shape = [4]).eval()`, creates a 1st-order tensor in a Numpy array `[1.0, 1.0, 1.0, 1.0]`.\n",
    "* `matmul(<tensor1>, <tensor2>)` - Multiply two tensors with equal dimensions\n",
    "* `random_un`: ?\n",
    "* `zeros(<shape>)` - create a constant `<shape>` tensor of zeros. E.g., `zeros([1, 2]).eval()` creates a Numpy array of `[0, 0]`."
   ]
  },
  {
   "cell_type": "markdown",
   "metadata": {
    "id": "EoH0Zt03qIZI"
   },
   "source": [
    "# Data Type Placeholders\n",
    "\n",
    "* `constant(<val>, shape=<(...,)>)` - A constant (immutable) tensor, e.g., `constant(1.0, shape = [4]).eval()`, creates a 1st-order tensor in a Numpy array `[1.0, 1.0, 1.0, 1.0]`.\n",
    "* `placeholder(<type>, shape=<(...)>)` - create a namespace for a variable.\n",
    "* `Variable(<tensor>)` - Create a mutable tensor, e.g., `Variable(zeros([1, 2]))` creates a (placeholder) for a mutable tensor of `0`s. Variables must be initialized with `global_variables_initializer().run()`."
   ]
  },
  {
   "cell_type": "markdown",
   "metadata": {
    "id": "X-p0lIS8c2Kz"
   },
   "source": [
    "# Tensorboard\n",
    "\n",
    "Run with `tensorboard --logdir <dir>`, run TensorBoard with a directory to save graphs.\n"
   ]
  },
  {
   "cell_type": "markdown",
   "metadata": {
    "id": "ju241lqO_NMC"
   },
   "source": [
    "# Acks & Refs\n",
    "\n",
    "- Kaggle - Intro to Deep Learning: [https://www.kaggle.com/learn/intro-to-deep-learning](https://www.kaggle.com/learn/intro-to-deep-learning)\n",
    "- Ionosphere Radar Data: [https://archive.ics.uci.edu/dataset/52/ionosphere](https://archive.ics.uci.edu/dataset/52/ionosphere)"
   ]
  }
 ],
 "metadata": {
  "colab": {
   "authorship_tag": "ABX9TyMR61YSm38QS2M0xlmxy2h8",
   "mount_file_id": "1yIXi3qBqoz-DpNjfHqpCtVlz_n_Qq9OA",
   "provenance": []
  },
  "kernelspec": {
   "display_name": "Python 3 (ipykernel)",
   "language": "python",
   "name": "python3"
  },
  "language_info": {
   "codemirror_mode": {
    "name": "ipython",
    "version": 3
   },
   "file_extension": ".py",
   "mimetype": "text/x-python",
   "name": "python",
   "nbconvert_exporter": "python",
   "pygments_lexer": "ipython3",
   "version": "3.11.6"
  }
 },
 "nbformat": 4,
 "nbformat_minor": 4
}
